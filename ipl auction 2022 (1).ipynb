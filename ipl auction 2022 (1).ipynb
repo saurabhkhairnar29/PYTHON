{
 "cells": [
  {
   "cell_type": "code",
   "execution_count": 1,
   "id": "2f834998",
   "metadata": {},
   "outputs": [],
   "source": [
    "import numpy as np\n",
    "import pandas as pd\n",
    "import seaborn as sns\n",
    "import matplotlib.pyplot as plt\n",
    "\n",
    "%matplotlib inline\n",
    "\n",
    "\n",
    "\n",
    "import warnings\n",
    "warnings.filterwarnings('ignore')"
   ]
  },
  {
   "cell_type": "code",
   "execution_count": 2,
   "id": "facda779",
   "metadata": {},
   "outputs": [],
   "source": [
    "ipl=pd.read_csv('ipl_2022_dataset.csv')"
   ]
  },
  {
   "cell_type": "code",
   "execution_count": 3,
   "id": "9c2acb4f",
   "metadata": {},
   "outputs": [
    {
     "data": {
      "text/html": [
       "<div>\n",
       "<style scoped>\n",
       "    .dataframe tbody tr th:only-of-type {\n",
       "        vertical-align: middle;\n",
       "    }\n",
       "\n",
       "    .dataframe tbody tr th {\n",
       "        vertical-align: top;\n",
       "    }\n",
       "\n",
       "    .dataframe thead th {\n",
       "        text-align: right;\n",
       "    }\n",
       "</style>\n",
       "<table border=\"1\" class=\"dataframe\">\n",
       "  <thead>\n",
       "    <tr style=\"text-align: right;\">\n",
       "      <th></th>\n",
       "      <th>Unnamed: 0</th>\n",
       "      <th>Player</th>\n",
       "      <th>Base Price</th>\n",
       "      <th>TYPE</th>\n",
       "      <th>COST IN ₹ (CR.)</th>\n",
       "      <th>Cost IN $ (000)</th>\n",
       "      <th>2021 Squad</th>\n",
       "      <th>Team</th>\n",
       "    </tr>\n",
       "  </thead>\n",
       "  <tbody>\n",
       "    <tr>\n",
       "      <th>0</th>\n",
       "      <td>0</td>\n",
       "      <td>Rashid Khan</td>\n",
       "      <td>Draft Pick</td>\n",
       "      <td>BOWLER</td>\n",
       "      <td>15.0</td>\n",
       "      <td>1950.0</td>\n",
       "      <td>SRH</td>\n",
       "      <td>Gujarat Titans</td>\n",
       "    </tr>\n",
       "    <tr>\n",
       "      <th>1</th>\n",
       "      <td>1</td>\n",
       "      <td>Hardik Pandya</td>\n",
       "      <td>Draft Pick</td>\n",
       "      <td>ALL-ROUNDER</td>\n",
       "      <td>15.0</td>\n",
       "      <td>1950.0</td>\n",
       "      <td>MI</td>\n",
       "      <td>Gujarat Titans</td>\n",
       "    </tr>\n",
       "    <tr>\n",
       "      <th>2</th>\n",
       "      <td>2</td>\n",
       "      <td>Lockie Ferguson</td>\n",
       "      <td>2 Cr</td>\n",
       "      <td>BOWLER</td>\n",
       "      <td>10.0</td>\n",
       "      <td>1300.0</td>\n",
       "      <td>KKR</td>\n",
       "      <td>Gujarat Titans</td>\n",
       "    </tr>\n",
       "    <tr>\n",
       "      <th>3</th>\n",
       "      <td>3</td>\n",
       "      <td>Rahul Tewatia</td>\n",
       "      <td>40 Lakh</td>\n",
       "      <td>ALL-ROUNDER</td>\n",
       "      <td>9.0</td>\n",
       "      <td>1170.0</td>\n",
       "      <td>RR</td>\n",
       "      <td>Gujarat Titans</td>\n",
       "    </tr>\n",
       "    <tr>\n",
       "      <th>4</th>\n",
       "      <td>4</td>\n",
       "      <td>Shubman Gill</td>\n",
       "      <td>Draft Pick</td>\n",
       "      <td>BATTER</td>\n",
       "      <td>8.0</td>\n",
       "      <td>1040.0</td>\n",
       "      <td>KKR</td>\n",
       "      <td>Gujarat Titans</td>\n",
       "    </tr>\n",
       "  </tbody>\n",
       "</table>\n",
       "</div>"
      ],
      "text/plain": [
       "   Unnamed: 0           Player  Base Price         TYPE  COST IN ₹ (CR.)  \\\n",
       "0           0      Rashid Khan  Draft Pick       BOWLER             15.0   \n",
       "1           1    Hardik Pandya  Draft Pick  ALL-ROUNDER             15.0   \n",
       "2           2  Lockie Ferguson        2 Cr       BOWLER             10.0   \n",
       "3           3    Rahul Tewatia     40 Lakh  ALL-ROUNDER              9.0   \n",
       "4           4     Shubman Gill  Draft Pick       BATTER              8.0   \n",
       "\n",
       "   Cost IN $ (000) 2021 Squad            Team  \n",
       "0           1950.0        SRH  Gujarat Titans  \n",
       "1           1950.0         MI  Gujarat Titans  \n",
       "2           1300.0        KKR  Gujarat Titans  \n",
       "3           1170.0         RR  Gujarat Titans  \n",
       "4           1040.0        KKR  Gujarat Titans  "
      ]
     },
     "execution_count": 3,
     "metadata": {},
     "output_type": "execute_result"
    }
   ],
   "source": [
    "ipl.head()"
   ]
  },
  {
   "cell_type": "code",
   "execution_count": 4,
   "id": "7072f54e",
   "metadata": {},
   "outputs": [
    {
     "data": {
      "text/plain": [
       "(633, 8)"
      ]
     },
     "execution_count": 4,
     "metadata": {},
     "output_type": "execute_result"
    }
   ],
   "source": [
    "ipl.shape"
   ]
  },
  {
   "cell_type": "code",
   "execution_count": 5,
   "id": "35582e0b",
   "metadata": {},
   "outputs": [
    {
     "name": "stdout",
     "output_type": "stream",
     "text": [
      "<class 'pandas.core.frame.DataFrame'>\n",
      "RangeIndex: 633 entries, 0 to 632\n",
      "Data columns (total 8 columns):\n",
      " #   Column           Non-Null Count  Dtype  \n",
      "---  ------           --------------  -----  \n",
      " 0   Unnamed: 0       633 non-null    int64  \n",
      " 1   Player           633 non-null    object \n",
      " 2   Base Price       633 non-null    object \n",
      " 3   TYPE             633 non-null    object \n",
      " 4   COST IN ₹ (CR.)  237 non-null    float64\n",
      " 5   Cost IN $ (000)  237 non-null    float64\n",
      " 6   2021 Squad       199 non-null    object \n",
      " 7   Team             633 non-null    object \n",
      "dtypes: float64(2), int64(1), object(5)\n",
      "memory usage: 39.7+ KB\n"
     ]
    }
   ],
   "source": [
    "ipl.info()"
   ]
  },
  {
   "cell_type": "code",
   "execution_count": 6,
   "id": "3379c747",
   "metadata": {},
   "outputs": [
    {
     "data": {
      "text/plain": [
       "Index(['Unnamed: 0', 'Player', 'Base Price', 'TYPE', 'COST IN ₹ (CR.)',\n",
       "       'Cost IN $ (000)', '2021 Squad', 'Team'],\n",
       "      dtype='object')"
      ]
     },
     "execution_count": 6,
     "metadata": {},
     "output_type": "execute_result"
    }
   ],
   "source": [
    "ipl.columns"
   ]
  },
  {
   "cell_type": "markdown",
   "id": "2adc3511",
   "metadata": {},
   "source": [
    "### cleaning"
   ]
  },
  {
   "cell_type": "code",
   "execution_count": 7,
   "id": "f6da1628",
   "metadata": {},
   "outputs": [],
   "source": [
    "# I droping 'Unnamed: 0' columun\n",
    "ipl.drop(['Unnamed: 0'],axis=1,inplace=True)"
   ]
  },
  {
   "cell_type": "code",
   "execution_count": 8,
   "id": "fd5c6abe",
   "metadata": {},
   "outputs": [
    {
     "data": {
      "text/html": [
       "<div>\n",
       "<style scoped>\n",
       "    .dataframe tbody tr th:only-of-type {\n",
       "        vertical-align: middle;\n",
       "    }\n",
       "\n",
       "    .dataframe tbody tr th {\n",
       "        vertical-align: top;\n",
       "    }\n",
       "\n",
       "    .dataframe thead th {\n",
       "        text-align: right;\n",
       "    }\n",
       "</style>\n",
       "<table border=\"1\" class=\"dataframe\">\n",
       "  <thead>\n",
       "    <tr style=\"text-align: right;\">\n",
       "      <th></th>\n",
       "      <th>Player</th>\n",
       "      <th>Base Price</th>\n",
       "      <th>TYPE</th>\n",
       "      <th>COST IN ₹ (CR.)</th>\n",
       "      <th>Cost IN $ (000)</th>\n",
       "      <th>2021 Squad</th>\n",
       "      <th>Team</th>\n",
       "    </tr>\n",
       "  </thead>\n",
       "  <tbody>\n",
       "    <tr>\n",
       "      <th>0</th>\n",
       "      <td>Rashid Khan</td>\n",
       "      <td>Draft Pick</td>\n",
       "      <td>BOWLER</td>\n",
       "      <td>15.0</td>\n",
       "      <td>1950.0</td>\n",
       "      <td>SRH</td>\n",
       "      <td>Gujarat Titans</td>\n",
       "    </tr>\n",
       "    <tr>\n",
       "      <th>1</th>\n",
       "      <td>Hardik Pandya</td>\n",
       "      <td>Draft Pick</td>\n",
       "      <td>ALL-ROUNDER</td>\n",
       "      <td>15.0</td>\n",
       "      <td>1950.0</td>\n",
       "      <td>MI</td>\n",
       "      <td>Gujarat Titans</td>\n",
       "    </tr>\n",
       "    <tr>\n",
       "      <th>2</th>\n",
       "      <td>Lockie Ferguson</td>\n",
       "      <td>2 Cr</td>\n",
       "      <td>BOWLER</td>\n",
       "      <td>10.0</td>\n",
       "      <td>1300.0</td>\n",
       "      <td>KKR</td>\n",
       "      <td>Gujarat Titans</td>\n",
       "    </tr>\n",
       "    <tr>\n",
       "      <th>3</th>\n",
       "      <td>Rahul Tewatia</td>\n",
       "      <td>40 Lakh</td>\n",
       "      <td>ALL-ROUNDER</td>\n",
       "      <td>9.0</td>\n",
       "      <td>1170.0</td>\n",
       "      <td>RR</td>\n",
       "      <td>Gujarat Titans</td>\n",
       "    </tr>\n",
       "    <tr>\n",
       "      <th>4</th>\n",
       "      <td>Shubman Gill</td>\n",
       "      <td>Draft Pick</td>\n",
       "      <td>BATTER</td>\n",
       "      <td>8.0</td>\n",
       "      <td>1040.0</td>\n",
       "      <td>KKR</td>\n",
       "      <td>Gujarat Titans</td>\n",
       "    </tr>\n",
       "  </tbody>\n",
       "</table>\n",
       "</div>"
      ],
      "text/plain": [
       "            Player  Base Price         TYPE  COST IN ₹ (CR.)  Cost IN $ (000)  \\\n",
       "0      Rashid Khan  Draft Pick       BOWLER             15.0           1950.0   \n",
       "1    Hardik Pandya  Draft Pick  ALL-ROUNDER             15.0           1950.0   \n",
       "2  Lockie Ferguson        2 Cr       BOWLER             10.0           1300.0   \n",
       "3    Rahul Tewatia     40 Lakh  ALL-ROUNDER              9.0           1170.0   \n",
       "4     Shubman Gill  Draft Pick       BATTER              8.0           1040.0   \n",
       "\n",
       "  2021 Squad            Team  \n",
       "0        SRH  Gujarat Titans  \n",
       "1         MI  Gujarat Titans  \n",
       "2        KKR  Gujarat Titans  \n",
       "3         RR  Gujarat Titans  \n",
       "4        KKR  Gujarat Titans  "
      ]
     },
     "execution_count": 8,
     "metadata": {},
     "output_type": "execute_result"
    }
   ],
   "source": [
    "# Resulte after drop 'Unnamed: 0' columns\n",
    "ipl.head()"
   ]
  },
  {
   "cell_type": "code",
   "execution_count": 9,
   "id": "b3517a78",
   "metadata": {},
   "outputs": [
    {
     "data": {
      "text/plain": [
       "Player               0\n",
       "Base Price           0\n",
       "TYPE                 0\n",
       "COST IN ₹ (CR.)    396\n",
       "Cost IN $ (000)    396\n",
       "2021 Squad         434\n",
       "Team                 0\n",
       "dtype: int64"
      ]
     },
     "execution_count": 9,
     "metadata": {},
     "output_type": "execute_result"
    }
   ],
   "source": [
    "# finding total null value each data set\n",
    "ipl.isnull().sum()"
   ]
  },
  {
   "cell_type": "code",
   "execution_count": 10,
   "id": "72867ee2",
   "metadata": {},
   "outputs": [
    {
     "data": {
      "text/html": [
       "<div>\n",
       "<style scoped>\n",
       "    .dataframe tbody tr th:only-of-type {\n",
       "        vertical-align: middle;\n",
       "    }\n",
       "\n",
       "    .dataframe tbody tr th {\n",
       "        vertical-align: top;\n",
       "    }\n",
       "\n",
       "    .dataframe thead th {\n",
       "        text-align: right;\n",
       "    }\n",
       "</style>\n",
       "<table border=\"1\" class=\"dataframe\">\n",
       "  <thead>\n",
       "    <tr style=\"text-align: right;\">\n",
       "      <th></th>\n",
       "      <th>Player</th>\n",
       "      <th>Base Price</th>\n",
       "      <th>TYPE</th>\n",
       "      <th>COST IN ₹ (CR.)</th>\n",
       "      <th>Cost IN $ (000)</th>\n",
       "      <th>2021 Squad</th>\n",
       "      <th>Team</th>\n",
       "    </tr>\n",
       "  </thead>\n",
       "  <tbody>\n",
       "    <tr>\n",
       "      <th>237</th>\n",
       "      <td>Suresh Raina</td>\n",
       "      <td>2 Cr</td>\n",
       "      <td>BATTER</td>\n",
       "      <td>NaN</td>\n",
       "      <td>NaN</td>\n",
       "      <td>CSK</td>\n",
       "      <td>Unsold</td>\n",
       "    </tr>\n",
       "    <tr>\n",
       "      <th>238</th>\n",
       "      <td>Steve Smith</td>\n",
       "      <td>2 Cr</td>\n",
       "      <td>BATTER</td>\n",
       "      <td>NaN</td>\n",
       "      <td>NaN</td>\n",
       "      <td>DC</td>\n",
       "      <td>Unsold</td>\n",
       "    </tr>\n",
       "    <tr>\n",
       "      <th>239</th>\n",
       "      <td>Shakib Al Hasan</td>\n",
       "      <td>2 Cr</td>\n",
       "      <td>ALL-ROUNDER</td>\n",
       "      <td>NaN</td>\n",
       "      <td>NaN</td>\n",
       "      <td>KKR</td>\n",
       "      <td>Unsold</td>\n",
       "    </tr>\n",
       "    <tr>\n",
       "      <th>240</th>\n",
       "      <td>Amit Mishra</td>\n",
       "      <td>1.5 Cr</td>\n",
       "      <td>BOWLER</td>\n",
       "      <td>NaN</td>\n",
       "      <td>NaN</td>\n",
       "      <td>DC</td>\n",
       "      <td>Unsold</td>\n",
       "    </tr>\n",
       "    <tr>\n",
       "      <th>241</th>\n",
       "      <td>Adil Rashid</td>\n",
       "      <td>2 Cr</td>\n",
       "      <td>BOWLER</td>\n",
       "      <td>NaN</td>\n",
       "      <td>NaN</td>\n",
       "      <td>PBKS</td>\n",
       "      <td>Unsold</td>\n",
       "    </tr>\n",
       "    <tr>\n",
       "      <th>...</th>\n",
       "      <td>...</td>\n",
       "      <td>...</td>\n",
       "      <td>...</td>\n",
       "      <td>...</td>\n",
       "      <td>...</td>\n",
       "      <td>...</td>\n",
       "      <td>...</td>\n",
       "    </tr>\n",
       "    <tr>\n",
       "      <th>628</th>\n",
       "      <td>Sairaj Patil</td>\n",
       "      <td>20 Lakh</td>\n",
       "      <td>BATTER</td>\n",
       "      <td>NaN</td>\n",
       "      <td>NaN</td>\n",
       "      <td>NaN</td>\n",
       "      <td>Unsold</td>\n",
       "    </tr>\n",
       "    <tr>\n",
       "      <th>629</th>\n",
       "      <td>Monu Singh</td>\n",
       "      <td>20 Lakh</td>\n",
       "      <td>BOWLER</td>\n",
       "      <td>NaN</td>\n",
       "      <td>NaN</td>\n",
       "      <td>NaN</td>\n",
       "      <td>Unsold</td>\n",
       "    </tr>\n",
       "    <tr>\n",
       "      <th>630</th>\n",
       "      <td>Nivethan Radhakrishnan</td>\n",
       "      <td>20 Lakh</td>\n",
       "      <td>BOWLER</td>\n",
       "      <td>NaN</td>\n",
       "      <td>NaN</td>\n",
       "      <td>NaN</td>\n",
       "      <td>Unsold</td>\n",
       "    </tr>\n",
       "    <tr>\n",
       "      <th>631</th>\n",
       "      <td>Lance Morris</td>\n",
       "      <td>20 Lakh</td>\n",
       "      <td>BOWLER</td>\n",
       "      <td>NaN</td>\n",
       "      <td>NaN</td>\n",
       "      <td>NaN</td>\n",
       "      <td>Unsold</td>\n",
       "    </tr>\n",
       "    <tr>\n",
       "      <th>632</th>\n",
       "      <td>Aaron Hardie</td>\n",
       "      <td>20 Lakh</td>\n",
       "      <td>ALL-ROUNDER</td>\n",
       "      <td>NaN</td>\n",
       "      <td>NaN</td>\n",
       "      <td>NaN</td>\n",
       "      <td>Unsold</td>\n",
       "    </tr>\n",
       "  </tbody>\n",
       "</table>\n",
       "<p>396 rows × 7 columns</p>\n",
       "</div>"
      ],
      "text/plain": [
       "                     Player Base Price         TYPE  COST IN ₹ (CR.)  \\\n",
       "237            Suresh Raina       2 Cr       BATTER              NaN   \n",
       "238             Steve Smith       2 Cr       BATTER              NaN   \n",
       "239         Shakib Al Hasan       2 Cr  ALL-ROUNDER              NaN   \n",
       "240             Amit Mishra     1.5 Cr       BOWLER              NaN   \n",
       "241             Adil Rashid       2 Cr       BOWLER              NaN   \n",
       "..                      ...        ...          ...              ...   \n",
       "628            Sairaj Patil    20 Lakh       BATTER              NaN   \n",
       "629              Monu Singh    20 Lakh       BOWLER              NaN   \n",
       "630  Nivethan Radhakrishnan    20 Lakh       BOWLER              NaN   \n",
       "631            Lance Morris    20 Lakh       BOWLER              NaN   \n",
       "632            Aaron Hardie    20 Lakh  ALL-ROUNDER              NaN   \n",
       "\n",
       "     Cost IN $ (000) 2021 Squad    Team  \n",
       "237              NaN        CSK  Unsold  \n",
       "238              NaN         DC  Unsold  \n",
       "239              NaN        KKR  Unsold  \n",
       "240              NaN         DC  Unsold  \n",
       "241              NaN       PBKS  Unsold  \n",
       "..               ...        ...     ...  \n",
       "628              NaN        NaN  Unsold  \n",
       "629              NaN        NaN  Unsold  \n",
       "630              NaN        NaN  Unsold  \n",
       "631              NaN        NaN  Unsold  \n",
       "632              NaN        NaN  Unsold  \n",
       "\n",
       "[396 rows x 7 columns]"
      ]
     },
     "execution_count": 10,
     "metadata": {},
     "output_type": "execute_result"
    }
   ],
   "source": [
    "# cheak the null values from Cost IN $ (000) \n",
    "ipl[ipl['Cost IN $ (000)'].isnull()]"
   ]
  },
  {
   "cell_type": "code",
   "execution_count": 11,
   "id": "e25a087f",
   "metadata": {},
   "outputs": [],
   "source": [
    "# Fillings or replace the COST IN ₹ (CR.),Cost IN $ (000) columns null vlues from '0'\n",
    "\n",
    "ipl['COST IN ₹ (CR.)']=ipl['COST IN ₹ (CR.)'].fillna(0)\n",
    "\n"
   ]
  },
  {
   "cell_type": "code",
   "execution_count": 12,
   "id": "83fa7ce0",
   "metadata": {},
   "outputs": [],
   "source": [
    "ipl['Cost IN $ (000)']=ipl['Cost IN $ (000)'].fillna(0)"
   ]
  },
  {
   "cell_type": "code",
   "execution_count": 13,
   "id": "0c3c2db6",
   "metadata": {},
   "outputs": [],
   "source": [
    "# Filling or replacing \"2021 Squad\" columns null values with \" not picked\" \n",
    "ipl['2021 Squad']=ipl['2021 Squad'].fillna(\"not picked\")"
   ]
  },
  {
   "cell_type": "code",
   "execution_count": 14,
   "id": "3a237588",
   "metadata": {},
   "outputs": [
    {
     "data": {
      "text/plain": [
       "Player             0\n",
       "Base Price         0\n",
       "TYPE               0\n",
       "COST IN ₹ (CR.)    0\n",
       "Cost IN $ (000)    0\n",
       "2021 Squad         0\n",
       "Team               0\n",
       "dtype: int64"
      ]
     },
     "execution_count": 14,
     "metadata": {},
     "output_type": "execute_result"
    }
   ],
   "source": [
    "# Result after filling null values\n",
    "ipl.isnull().sum()"
   ]
  },
  {
   "cell_type": "code",
   "execution_count": 15,
   "id": "23e73a40",
   "metadata": {},
   "outputs": [
    {
     "data": {
      "text/plain": [
       "array(['Gujarat Titans', 'Chennai Super Kings', 'Delhi Capitals',\n",
       "       'Kolkata Knight Riders', 'Punjab Kings', 'Lucknow Super Giants',\n",
       "       'Mumbai Indians', 'Royal Challengers Bangalore',\n",
       "       'Rajasthan Royals', 'Sunrisers Hyderabad'], dtype=object)"
      ]
     },
     "execution_count": 15,
     "metadata": {},
     "output_type": "execute_result"
    }
   ],
   "source": [
    "#  add teams columns\n",
    "teams=ipl[ipl['COST IN ₹ (CR.)']>0]['Team'].unique()\n",
    "teams"
   ]
  },
  {
   "cell_type": "code",
   "execution_count": 16,
   "id": "73a5f2e0",
   "metadata": {},
   "outputs": [],
   "source": [
    "# create another columns\n",
    "ipl['Status']=ipl['Team'].replace(teams,'sold')"
   ]
  },
  {
   "cell_type": "code",
   "execution_count": 17,
   "id": "9df82be9",
   "metadata": {},
   "outputs": [
    {
     "data": {
      "text/html": [
       "<div>\n",
       "<style scoped>\n",
       "    .dataframe tbody tr th:only-of-type {\n",
       "        vertical-align: middle;\n",
       "    }\n",
       "\n",
       "    .dataframe tbody tr th {\n",
       "        vertical-align: top;\n",
       "    }\n",
       "\n",
       "    .dataframe thead th {\n",
       "        text-align: right;\n",
       "    }\n",
       "</style>\n",
       "<table border=\"1\" class=\"dataframe\">\n",
       "  <thead>\n",
       "    <tr style=\"text-align: right;\">\n",
       "      <th></th>\n",
       "      <th>Player</th>\n",
       "      <th>Base Price</th>\n",
       "      <th>TYPE</th>\n",
       "      <th>COST IN ₹ (CR.)</th>\n",
       "      <th>Cost IN $ (000)</th>\n",
       "      <th>2021 Squad</th>\n",
       "      <th>Team</th>\n",
       "      <th>Status</th>\n",
       "    </tr>\n",
       "  </thead>\n",
       "  <tbody>\n",
       "    <tr>\n",
       "      <th>0</th>\n",
       "      <td>Rashid Khan</td>\n",
       "      <td>Draft Pick</td>\n",
       "      <td>BOWLER</td>\n",
       "      <td>15.0</td>\n",
       "      <td>1950.0</td>\n",
       "      <td>SRH</td>\n",
       "      <td>Gujarat Titans</td>\n",
       "      <td>sold</td>\n",
       "    </tr>\n",
       "    <tr>\n",
       "      <th>1</th>\n",
       "      <td>Hardik Pandya</td>\n",
       "      <td>Draft Pick</td>\n",
       "      <td>ALL-ROUNDER</td>\n",
       "      <td>15.0</td>\n",
       "      <td>1950.0</td>\n",
       "      <td>MI</td>\n",
       "      <td>Gujarat Titans</td>\n",
       "      <td>sold</td>\n",
       "    </tr>\n",
       "    <tr>\n",
       "      <th>2</th>\n",
       "      <td>Lockie Ferguson</td>\n",
       "      <td>2 Cr</td>\n",
       "      <td>BOWLER</td>\n",
       "      <td>10.0</td>\n",
       "      <td>1300.0</td>\n",
       "      <td>KKR</td>\n",
       "      <td>Gujarat Titans</td>\n",
       "      <td>sold</td>\n",
       "    </tr>\n",
       "    <tr>\n",
       "      <th>3</th>\n",
       "      <td>Rahul Tewatia</td>\n",
       "      <td>40 Lakh</td>\n",
       "      <td>ALL-ROUNDER</td>\n",
       "      <td>9.0</td>\n",
       "      <td>1170.0</td>\n",
       "      <td>RR</td>\n",
       "      <td>Gujarat Titans</td>\n",
       "      <td>sold</td>\n",
       "    </tr>\n",
       "    <tr>\n",
       "      <th>4</th>\n",
       "      <td>Shubman Gill</td>\n",
       "      <td>Draft Pick</td>\n",
       "      <td>BATTER</td>\n",
       "      <td>8.0</td>\n",
       "      <td>1040.0</td>\n",
       "      <td>KKR</td>\n",
       "      <td>Gujarat Titans</td>\n",
       "      <td>sold</td>\n",
       "    </tr>\n",
       "  </tbody>\n",
       "</table>\n",
       "</div>"
      ],
      "text/plain": [
       "            Player  Base Price         TYPE  COST IN ₹ (CR.)  Cost IN $ (000)  \\\n",
       "0      Rashid Khan  Draft Pick       BOWLER             15.0           1950.0   \n",
       "1    Hardik Pandya  Draft Pick  ALL-ROUNDER             15.0           1950.0   \n",
       "2  Lockie Ferguson        2 Cr       BOWLER             10.0           1300.0   \n",
       "3    Rahul Tewatia     40 Lakh  ALL-ROUNDER              9.0           1170.0   \n",
       "4     Shubman Gill  Draft Pick       BATTER              8.0           1040.0   \n",
       "\n",
       "  2021 Squad            Team Status  \n",
       "0        SRH  Gujarat Titans   sold  \n",
       "1         MI  Gujarat Titans   sold  \n",
       "2        KKR  Gujarat Titans   sold  \n",
       "3         RR  Gujarat Titans   sold  \n",
       "4        KKR  Gujarat Titans   sold  "
      ]
     },
     "execution_count": 17,
     "metadata": {},
     "output_type": "execute_result"
    }
   ],
   "source": [
    "ipl.head()"
   ]
  },
  {
   "cell_type": "code",
   "execution_count": 18,
   "id": "e33f1a9b",
   "metadata": {},
   "outputs": [
    {
     "data": {
      "text/html": [
       "<div>\n",
       "<style scoped>\n",
       "    .dataframe tbody tr th:only-of-type {\n",
       "        vertical-align: middle;\n",
       "    }\n",
       "\n",
       "    .dataframe tbody tr th {\n",
       "        vertical-align: top;\n",
       "    }\n",
       "\n",
       "    .dataframe thead th {\n",
       "        text-align: right;\n",
       "    }\n",
       "</style>\n",
       "<table border=\"1\" class=\"dataframe\">\n",
       "  <thead>\n",
       "    <tr style=\"text-align: right;\">\n",
       "      <th></th>\n",
       "      <th>Player</th>\n",
       "      <th>Base Price</th>\n",
       "      <th>TYPE</th>\n",
       "      <th>COST IN ₹ (CR.)</th>\n",
       "      <th>Cost IN $ (000)</th>\n",
       "      <th>2021 Squad</th>\n",
       "      <th>Team</th>\n",
       "      <th>Status</th>\n",
       "    </tr>\n",
       "  </thead>\n",
       "  <tbody>\n",
       "    <tr>\n",
       "      <th>62</th>\n",
       "      <td>Lalit Yadav</td>\n",
       "      <td>20 Lakh</td>\n",
       "      <td>ALL-ROUNDER</td>\n",
       "      <td>0.65</td>\n",
       "      <td>84.5</td>\n",
       "      <td>DC</td>\n",
       "      <td>Delhi Capitals</td>\n",
       "      <td>sold</td>\n",
       "    </tr>\n",
       "    <tr>\n",
       "      <th>240</th>\n",
       "      <td>Amit Mishra</td>\n",
       "      <td>1.5 Cr</td>\n",
       "      <td>BOWLER</td>\n",
       "      <td>0.00</td>\n",
       "      <td>0.0</td>\n",
       "      <td>DC</td>\n",
       "      <td>Unsold</td>\n",
       "      <td>Unsold</td>\n",
       "    </tr>\n",
       "    <tr>\n",
       "      <th>499</th>\n",
       "      <td>Amit Mishra</td>\n",
       "      <td>20 Lakh</td>\n",
       "      <td>BOWLER</td>\n",
       "      <td>0.00</td>\n",
       "      <td>0.0</td>\n",
       "      <td>not picked</td>\n",
       "      <td>Unsold</td>\n",
       "      <td>Unsold</td>\n",
       "    </tr>\n",
       "    <tr>\n",
       "      <th>518</th>\n",
       "      <td>Shivam Sharma</td>\n",
       "      <td>20 Lakh</td>\n",
       "      <td>ALL-ROUNDER</td>\n",
       "      <td>0.00</td>\n",
       "      <td>0.0</td>\n",
       "      <td>not picked</td>\n",
       "      <td>Unsold</td>\n",
       "      <td>Unsold</td>\n",
       "    </tr>\n",
       "    <tr>\n",
       "      <th>530</th>\n",
       "      <td>Lalit Yadav</td>\n",
       "      <td>20 Lakh</td>\n",
       "      <td>BOWLER</td>\n",
       "      <td>0.00</td>\n",
       "      <td>0.0</td>\n",
       "      <td>not picked</td>\n",
       "      <td>Unsold</td>\n",
       "      <td>Unsold</td>\n",
       "    </tr>\n",
       "    <tr>\n",
       "      <th>537</th>\n",
       "      <td>Shubham Singh</td>\n",
       "      <td>20 Lakh</td>\n",
       "      <td>ALL-ROUNDER</td>\n",
       "      <td>0.00</td>\n",
       "      <td>0.0</td>\n",
       "      <td>not picked</td>\n",
       "      <td>Unsold</td>\n",
       "      <td>Unsold</td>\n",
       "    </tr>\n",
       "    <tr>\n",
       "      <th>544</th>\n",
       "      <td>Shubham Singh</td>\n",
       "      <td>20 Lakh</td>\n",
       "      <td>BOWLER</td>\n",
       "      <td>0.00</td>\n",
       "      <td>0.0</td>\n",
       "      <td>not picked</td>\n",
       "      <td>Unsold</td>\n",
       "      <td>Unsold</td>\n",
       "    </tr>\n",
       "    <tr>\n",
       "      <th>569</th>\n",
       "      <td>Shivam Sharma</td>\n",
       "      <td>20 Lakh</td>\n",
       "      <td>ALL-ROUNDER</td>\n",
       "      <td>0.00</td>\n",
       "      <td>0.0</td>\n",
       "      <td>not picked</td>\n",
       "      <td>Unsold</td>\n",
       "      <td>Unsold</td>\n",
       "    </tr>\n",
       "  </tbody>\n",
       "</table>\n",
       "</div>"
      ],
      "text/plain": [
       "            Player Base Price         TYPE  COST IN ₹ (CR.)  Cost IN $ (000)  \\\n",
       "62     Lalit Yadav    20 Lakh  ALL-ROUNDER             0.65             84.5   \n",
       "240    Amit Mishra     1.5 Cr       BOWLER             0.00              0.0   \n",
       "499    Amit Mishra    20 Lakh       BOWLER             0.00              0.0   \n",
       "518  Shivam Sharma    20 Lakh  ALL-ROUNDER             0.00              0.0   \n",
       "530    Lalit Yadav    20 Lakh       BOWLER             0.00              0.0   \n",
       "537  Shubham Singh    20 Lakh  ALL-ROUNDER             0.00              0.0   \n",
       "544  Shubham Singh    20 Lakh       BOWLER             0.00              0.0   \n",
       "569  Shivam Sharma    20 Lakh  ALL-ROUNDER             0.00              0.0   \n",
       "\n",
       "     2021 Squad            Team  Status  \n",
       "62           DC  Delhi Capitals    sold  \n",
       "240          DC          Unsold  Unsold  \n",
       "499  not picked          Unsold  Unsold  \n",
       "518  not picked          Unsold  Unsold  \n",
       "530  not picked          Unsold  Unsold  \n",
       "537  not picked          Unsold  Unsold  \n",
       "544  not picked          Unsold  Unsold  \n",
       "569  not picked          Unsold  Unsold  "
      ]
     },
     "execution_count": 18,
     "metadata": {},
     "output_type": "execute_result"
    }
   ],
   "source": [
    "# cheack duplicate player \n",
    "\n",
    "ipl[ipl['Player'].duplicated(keep=False)]"
   ]
  },
  {
   "cell_type": "code",
   "execution_count": 19,
   "id": "9e666f59",
   "metadata": {},
   "outputs": [],
   "source": [
    "# create 3 columns  retention, base price,base price units\n",
    "\n",
    "ipl['retention'] = ipl['Base Price']\n"
   ]
  },
  {
   "cell_type": "raw",
   "id": "865a4a06",
   "metadata": {},
   "source": [
    "************************creating new columns because see the data how many player are retention*********************"
   ]
  },
  {
   "cell_type": "code",
   "execution_count": 20,
   "id": "a725ce61",
   "metadata": {},
   "outputs": [
    {
     "data": {
      "text/plain": [
       "0      Draft Pick\n",
       "1      Draft Pick\n",
       "2      In Auction\n",
       "3      In Auction\n",
       "4      Draft Pick\n",
       "          ...    \n",
       "628    In Auction\n",
       "629    In Auction\n",
       "630    In Auction\n",
       "631    In Auction\n",
       "632    In Auction\n",
       "Name: retention, Length: 633, dtype: object"
      ]
     },
     "execution_count": 20,
     "metadata": {},
     "output_type": "execute_result"
    }
   ],
   "source": [
    "\n",
    "ipl['retention'].replace(['2 Cr', '40 Lakh', '20 Lakh', '1 Cr', '75 Lakh','50 Lakh', '30 Lakh','1.5 Cr'],'In Auction', inplace = True)\n",
    "ipl['retention']"
   ]
  },
  {
   "cell_type": "raw",
   "id": "359e6954",
   "metadata": {},
   "source": [
    "**************** Replace the value with from auction(given list)**************************************************************\n"
   ]
  },
  {
   "cell_type": "code",
   "execution_count": 21,
   "id": "e69d58f6",
   "metadata": {},
   "outputs": [],
   "source": [
    "# treating base price\n",
    "\n"
   ]
  },
  {
   "cell_type": "code",
   "execution_count": 22,
   "id": "b3b72ef5",
   "metadata": {},
   "outputs": [
    {
     "data": {
      "text/plain": [
       "0            0\n",
       "1            0\n",
       "2         2 Cr\n",
       "3      40 Lakh\n",
       "4            0\n",
       "        ...   \n",
       "628    20 Lakh\n",
       "629    20 Lakh\n",
       "630    20 Lakh\n",
       "631    20 Lakh\n",
       "632    20 Lakh\n",
       "Name: Base Price, Length: 633, dtype: object"
      ]
     },
     "execution_count": 22,
     "metadata": {},
     "output_type": "execute_result"
    }
   ],
   "source": [
    "ipl['Base Price'].replace('Draft Pick',0, inplace = True)\n",
    "ipl['Base Price']"
   ]
  },
  {
   "cell_type": "code",
   "execution_count": 23,
   "id": "dc6f27ca",
   "metadata": {},
   "outputs": [],
   "source": [
    "ipl['base_price_unit'] = ipl['Base Price'].apply(lambda x: str(x).split(' ')[-1])\n",
    "ipl['base_price'] = ipl['Base Price'].apply(lambda x: str(x).split(' ')[0])"
   ]
  },
  {
   "cell_type": "code",
   "execution_count": 24,
   "id": "1d8be23e",
   "metadata": {},
   "outputs": [
    {
     "data": {
      "text/plain": [
       "0         0\n",
       "1         0\n",
       "2        Cr\n",
       "3      Lakh\n",
       "4         0\n",
       "       ... \n",
       "628    Lakh\n",
       "629    Lakh\n",
       "630    Lakh\n",
       "631    Lakh\n",
       "632    Lakh\n",
       "Name: base_price_unit, Length: 633, dtype: object"
      ]
     },
     "execution_count": 24,
     "metadata": {},
     "output_type": "execute_result"
    }
   ],
   "source": [
    "ipl['base_price_unit']"
   ]
  },
  {
   "cell_type": "code",
   "execution_count": 25,
   "id": "761b95c4",
   "metadata": {},
   "outputs": [
    {
     "data": {
      "text/plain": [
       "0       0\n",
       "1       0\n",
       "2       2\n",
       "3      40\n",
       "4       0\n",
       "       ..\n",
       "628    20\n",
       "629    20\n",
       "630    20\n",
       "631    20\n",
       "632    20\n",
       "Name: base_price, Length: 633, dtype: object"
      ]
     },
     "execution_count": 25,
     "metadata": {},
     "output_type": "execute_result"
    }
   ],
   "source": [
    "ipl['base_price']"
   ]
  },
  {
   "cell_type": "code",
   "execution_count": 26,
   "id": "71915263",
   "metadata": {},
   "outputs": [
    {
     "data": {
      "text/plain": [
       "array(['0', '2', '40', '20', '1', '75', '50', '30', 'Retained', '1.5'],\n",
       "      dtype=object)"
      ]
     },
     "execution_count": 26,
     "metadata": {},
     "output_type": "execute_result"
    }
   ],
   "source": [
    "ipl['base_price'].unique()"
   ]
  },
  {
   "cell_type": "code",
   "execution_count": 27,
   "id": "a579dede",
   "metadata": {},
   "outputs": [],
   "source": [
    "\n",
    "ipl['base_price'].replace('Retained',0,inplace=True)"
   ]
  },
  {
   "cell_type": "code",
   "execution_count": 28,
   "id": "e76ffe2d",
   "metadata": {},
   "outputs": [
    {
     "data": {
      "text/plain": [
       "array(['0', '2', '40', '20', '1', '75', '50', '30', 0, '1.5'],\n",
       "      dtype=object)"
      ]
     },
     "execution_count": 28,
     "metadata": {},
     "output_type": "execute_result"
    }
   ],
   "source": [
    "ipl['base_price'].unique()"
   ]
  },
  {
   "cell_type": "code",
   "execution_count": null,
   "id": "2f1904cc",
   "metadata": {},
   "outputs": [],
   "source": []
  },
  {
   "cell_type": "code",
   "execution_count": null,
   "id": "31ba8d53",
   "metadata": {},
   "outputs": [],
   "source": []
  },
  {
   "cell_type": "markdown",
   "id": "17919632",
   "metadata": {},
   "source": [
    "## Analysis"
   ]
  },
  {
   "cell_type": "code",
   "execution_count": 29,
   "id": "2394919d",
   "metadata": {},
   "outputs": [
    {
     "data": {
      "text/plain": [
       "633"
      ]
     },
     "execution_count": 29,
     "metadata": {},
     "output_type": "execute_result"
    }
   ],
   "source": [
    "# Q1 How many player participated in 2022 ipl acution?\n",
    "\n",
    "ipl.shape[0]\n"
   ]
  },
  {
   "cell_type": "raw",
   "id": "7775b4ba",
   "metadata": {},
   "source": [
    "*************** '633' player participated according the dat****************"
   ]
  },
  {
   "cell_type": "code",
   "execution_count": 30,
   "id": "5ff88c38",
   "metadata": {},
   "outputs": [
    {
     "data": {
      "text/html": [
       "<div>\n",
       "<style scoped>\n",
       "    .dataframe tbody tr th:only-of-type {\n",
       "        vertical-align: middle;\n",
       "    }\n",
       "\n",
       "    .dataframe tbody tr th {\n",
       "        vertical-align: top;\n",
       "    }\n",
       "\n",
       "    .dataframe thead th {\n",
       "        text-align: right;\n",
       "    }\n",
       "</style>\n",
       "<table border=\"1\" class=\"dataframe\">\n",
       "  <thead>\n",
       "    <tr style=\"text-align: right;\">\n",
       "      <th></th>\n",
       "      <th>index</th>\n",
       "      <th>TYPE</th>\n",
       "    </tr>\n",
       "  </thead>\n",
       "  <tbody>\n",
       "    <tr>\n",
       "      <th>0</th>\n",
       "      <td>ALL-ROUNDER</td>\n",
       "      <td>242</td>\n",
       "    </tr>\n",
       "    <tr>\n",
       "      <th>1</th>\n",
       "      <td>BOWLER</td>\n",
       "      <td>215</td>\n",
       "    </tr>\n",
       "    <tr>\n",
       "      <th>2</th>\n",
       "      <td>BATTER</td>\n",
       "      <td>112</td>\n",
       "    </tr>\n",
       "    <tr>\n",
       "      <th>3</th>\n",
       "      <td>WICKETKEEPER</td>\n",
       "      <td>64</td>\n",
       "    </tr>\n",
       "  </tbody>\n",
       "</table>\n",
       "</div>"
      ],
      "text/plain": [
       "          index  TYPE\n",
       "0   ALL-ROUNDER   242\n",
       "1        BOWLER   215\n",
       "2        BATTER   112\n",
       "3  WICKETKEEPER    64"
      ]
     },
     "execution_count": 30,
     "metadata": {},
     "output_type": "execute_result"
    }
   ],
   "source": [
    "# Q1.2 how many type of player have participated?\n",
    "\n",
    "types=ipl['TYPE'].value_counts()\n",
    "types.reset_index()\n"
   ]
  },
  {
   "cell_type": "code",
   "execution_count": 31,
   "id": "08360309",
   "metadata": {},
   "outputs": [
    {
     "data": {
      "text/plain": [
       "[]"
      ]
     },
     "execution_count": 31,
     "metadata": {},
     "output_type": "execute_result"
    },
    {
     "data": {
      "image/png": "[encoded data removed]",
      "text/plain": [
       "<Figure size 640x480 with 1 Axes>"
      ]
     },
     "metadata": {},
     "output_type": "display_data"
    }
   ],
   "source": [
    "# pie chart according Q1 and Q1.2\n",
    "plt.pie(types.values,labels=types.index,labeldistance=1.2,autopct='%1.2f%%')\n",
    "plt.title('Role of player participated in 2022 ipl auction',fontsize=20)\n",
    "plt.plot()"
   ]
  },
  {
   "cell_type": "raw",
   "id": "39ae1736",
   "metadata": {},
   "source": [
    "*** There are 4 types of player participated in 2022 ipl auction\n",
    "\n",
    "1] ALL-ROUNDER Types of player participated i.e = 38.23%\n",
    "2]and secound one is BOWLER i.e=33.97%\n",
    "3]third is BATTER i.e = 17.69%\n",
    "4]and last one is WICKETKEEPER i.e= 10.11%\n",
    "\n",
    "according pie chart most player types participated in auction i.e ALL ROUNDER"
   ]
  },
  {
   "cell_type": "code",
   "execution_count": 32,
   "id": "cf3db8ee",
   "metadata": {},
   "outputs": [
    {
     "data": {
      "text/plain": [
       "Status\n",
       "Unsold    396\n",
       "sold      237\n",
       "Name: Player, dtype: int64"
      ]
     },
     "execution_count": 32,
     "metadata": {},
     "output_type": "execute_result"
    }
   ],
   "source": [
    "# Q2  Count players sold and unsold using groupby \n",
    "ipl.groupby('Status')['Player'].count()"
   ]
  },
  {
   "cell_type": "code",
   "execution_count": 33,
   "id": "3176c4aa",
   "metadata": {},
   "outputs": [
    {
     "data": {
      "text/plain": [
       "[]"
      ]
     },
     "execution_count": 33,
     "metadata": {},
     "output_type": "execute_result"
    },
    {
     "data": {
      "image/png": "[encoded data removed]",
      "text/plain": [
       "<Figure size 1000x500 with 1 Axes>"
      ]
     },
     "metadata": {},
     "output_type": "display_data"
    }
   ],
   "source": [
    "#players sold and unsold using a bar graph.\n",
    "plt.figure(figsize=(10,5))\n",
    "fig=sns.countplot(ipl['Status'],palette=['orange','red'])\n",
    "plt.xlabel('sold or unsold')\n",
    "plt.ylabel('number of players')\n",
    "plt.title(\"sold vs unsold \",fontsize=15)\n",
    "plt.plot()"
   ]
  },
  {
   "cell_type": "raw",
   "id": "d7e6d7cc",
   "metadata": {},
   "source": [
    "********************************************************************************************************************************   \n",
    "According the bar graph unsold player more thane sold player \n",
    "[unsold>sold]\n",
    "\n"
   ]
  },
  {
   "cell_type": "code",
   "execution_count": 34,
   "id": "f877dcea",
   "metadata": {},
   "outputs": [
    {
     "data": {
      "text/plain": [
       "[]"
      ]
     },
     "execution_count": 34,
     "metadata": {},
     "output_type": "execute_result"
    },
    {
     "data": {
      "image/png": "[encoded data removed]",
      "text/plain": [
       "<Figure size 1000x500 with 1 Axes>"
      ]
     },
     "metadata": {},
     "output_type": "display_data"
    }
   ],
   "source": [
    "#Q3. players sold and unsold using a bar graph.\n",
    "\n",
    "\n",
    "\n",
    "plt.figure(figsize=(10,5))\n",
    "fig=sns.countplot(ipl[ipl['Team']!='Unsold']['Team'])\n",
    "plt.xlabel('Team names')\n",
    "plt.ylabel('Number of player')\n",
    "plt.title('Player Bought by each team',fontsize=15)\n",
    "plt.xticks(rotation=50)\n",
    "plt.plot()\n"
   ]
  },
  {
   "cell_type": "code",
   "execution_count": 35,
   "id": "292187d8",
   "metadata": {},
   "outputs": [
    {
     "data": {
      "text/html": [
       "<div>\n",
       "<style scoped>\n",
       "    .dataframe tbody tr th:only-of-type {\n",
       "        vertical-align: middle;\n",
       "    }\n",
       "\n",
       "    .dataframe tbody tr th {\n",
       "        vertical-align: top;\n",
       "    }\n",
       "\n",
       "    .dataframe thead th {\n",
       "        text-align: right;\n",
       "    }\n",
       "</style>\n",
       "<table border=\"1\" class=\"dataframe\">\n",
       "  <thead>\n",
       "    <tr style=\"text-align: right;\">\n",
       "      <th></th>\n",
       "      <th>TYPE</th>\n",
       "      <th>Status</th>\n",
       "      <th>Player</th>\n",
       "    </tr>\n",
       "  </thead>\n",
       "  <tbody>\n",
       "    <tr>\n",
       "      <th>0</th>\n",
       "      <td>ALL-ROUNDER</td>\n",
       "      <td>Unsold</td>\n",
       "      <td>154</td>\n",
       "    </tr>\n",
       "    <tr>\n",
       "      <th>1</th>\n",
       "      <td>ALL-ROUNDER</td>\n",
       "      <td>sold</td>\n",
       "      <td>88</td>\n",
       "    </tr>\n",
       "    <tr>\n",
       "      <th>2</th>\n",
       "      <td>BATTER</td>\n",
       "      <td>Unsold</td>\n",
       "      <td>67</td>\n",
       "    </tr>\n",
       "    <tr>\n",
       "      <th>3</th>\n",
       "      <td>BATTER</td>\n",
       "      <td>sold</td>\n",
       "      <td>45</td>\n",
       "    </tr>\n",
       "    <tr>\n",
       "      <th>4</th>\n",
       "      <td>BOWLER</td>\n",
       "      <td>Unsold</td>\n",
       "      <td>138</td>\n",
       "    </tr>\n",
       "    <tr>\n",
       "      <th>5</th>\n",
       "      <td>BOWLER</td>\n",
       "      <td>sold</td>\n",
       "      <td>77</td>\n",
       "    </tr>\n",
       "    <tr>\n",
       "      <th>6</th>\n",
       "      <td>WICKETKEEPER</td>\n",
       "      <td>Unsold</td>\n",
       "      <td>37</td>\n",
       "    </tr>\n",
       "    <tr>\n",
       "      <th>7</th>\n",
       "      <td>WICKETKEEPER</td>\n",
       "      <td>sold</td>\n",
       "      <td>27</td>\n",
       "    </tr>\n",
       "  </tbody>\n",
       "</table>\n",
       "</div>"
      ],
      "text/plain": [
       "           TYPE  Status  Player\n",
       "0   ALL-ROUNDER  Unsold     154\n",
       "1   ALL-ROUNDER    sold      88\n",
       "2        BATTER  Unsold      67\n",
       "3        BATTER    sold      45\n",
       "4        BOWLER  Unsold     138\n",
       "5        BOWLER    sold      77\n",
       "6  WICKETKEEPER  Unsold      37\n",
       "7  WICKETKEEPER    sold      27"
      ]
     },
     "execution_count": 35,
     "metadata": {},
     "output_type": "execute_result"
    }
   ],
   "source": [
    "# 4. How many Players were Braught for each Role\n",
    "\n",
    "ipl.groupby(['TYPE','Status'])['Player'].count().reset_index()"
   ]
  },
  {
   "cell_type": "code",
   "execution_count": 36,
   "id": "79a4813c",
   "metadata": {},
   "outputs": [
    {
     "data": {
      "image/png": "[encoded data removed]",
      "text/plain": [
       "<Figure size 500x500 with 1 Axes>"
      ]
     },
     "metadata": {},
     "output_type": "display_data"
    }
   ],
   "source": [
    "plt.figure(figsize=(5,5))\n",
    "plt.hist(ipl['Team'])\n",
    "plt.title(\"team retaintone info\")\n",
    "plt.xlabel('Team')\n",
    "plt.ylabel('Retention')\n",
    "plt.xticks(rotation=50)\n",
    "plt.grid()\n",
    "plt.show()\n"
   ]
  },
  {
   "cell_type": "code",
   "execution_count": 37,
   "id": "2f1bfbb2",
   "metadata": {},
   "outputs": [
    {
     "data": {
      "image/png": "[encoded data removed]",
      "text/plain": [
       "<Figure size 2000x1000 with 1 Axes>"
      ]
     },
     "metadata": {},
     "output_type": "display_data"
    }
   ],
   "source": [
    "#Q.5 how many  bowler , all rounder, bastman ,wicket keeper in every teams\n",
    "\n",
    "\n",
    "\n",
    "\n",
    "\n",
    "plt.figure(figsize=(20,10))\n",
    "fig=sns.countplot(ipl[ipl['Team']!='Unsold']['Team'],hue=ipl['TYPE'])\n",
    "plt.title('Player in each team')\n",
    "plt.xlabel('Team Names')\n",
    "plt.ylabel('number of player')\n",
    "plt.xticks(rotation=60)\n",
    "plt.grid()"
   ]
  },
  {
   "cell_type": "code",
   "execution_count": 38,
   "id": "ddad33ce",
   "metadata": {},
   "outputs": [],
   "source": [
    " # 6. Which Are the players who participated in IPL 2021 and will be participating in IPL 2022 and playing in same team\n",
    "\n",
    "ipl.replace({'SRH':'Sunrisers Hyderabad','CSK':'Chennai Super Kings','MI':'Mumbai Indians',\n",
    "            'KKR':'Kolkata Knight Riders','RR':'Rajasthan Royals','PBKS':'Punjab Kings',\n",
    "            'DC':'Delhi Capitals','RCB':'Royal Challengers Bangalore'},inplace =True)\n"
   ]
  },
  {
   "cell_type": "code",
   "execution_count": 39,
   "id": "07b87a1a",
   "metadata": {},
   "outputs": [
    {
     "data": {
      "text/html": [
       "<div>\n",
       "<style scoped>\n",
       "    .dataframe tbody tr th:only-of-type {\n",
       "        vertical-align: middle;\n",
       "    }\n",
       "\n",
       "    .dataframe tbody tr th {\n",
       "        vertical-align: top;\n",
       "    }\n",
       "\n",
       "    .dataframe thead th {\n",
       "        text-align: right;\n",
       "    }\n",
       "</style>\n",
       "<table border=\"1\" class=\"dataframe\">\n",
       "  <thead>\n",
       "    <tr style=\"text-align: right;\">\n",
       "      <th></th>\n",
       "      <th>Player</th>\n",
       "      <th>Base Price</th>\n",
       "      <th>TYPE</th>\n",
       "      <th>COST IN ₹ (CR.)</th>\n",
       "      <th>Cost IN $ (000)</th>\n",
       "      <th>2021 Squad</th>\n",
       "      <th>Team</th>\n",
       "      <th>Status</th>\n",
       "      <th>retention</th>\n",
       "      <th>base_price_unit</th>\n",
       "      <th>base_price</th>\n",
       "    </tr>\n",
       "  </thead>\n",
       "  <tbody>\n",
       "    <tr>\n",
       "      <th>23</th>\n",
       "      <td>Deepak Chahar</td>\n",
       "      <td>2 Cr</td>\n",
       "      <td>BOWLER</td>\n",
       "      <td>14.00</td>\n",
       "      <td>1820.0</td>\n",
       "      <td>Chennai Super Kings</td>\n",
       "      <td>Chennai Super Kings</td>\n",
       "      <td>sold</td>\n",
       "      <td>In Auction</td>\n",
       "      <td>Cr</td>\n",
       "      <td>2</td>\n",
       "    </tr>\n",
       "    <tr>\n",
       "      <th>26</th>\n",
       "      <td>Ambati Rayudu</td>\n",
       "      <td>2 Cr</td>\n",
       "      <td>WICKETKEEPER</td>\n",
       "      <td>6.75</td>\n",
       "      <td>877.5</td>\n",
       "      <td>Chennai Super Kings</td>\n",
       "      <td>Chennai Super Kings</td>\n",
       "      <td>sold</td>\n",
       "      <td>In Auction</td>\n",
       "      <td>Cr</td>\n",
       "      <td>2</td>\n",
       "    </tr>\n",
       "    <tr>\n",
       "      <th>28</th>\n",
       "      <td>Dwayne Bravo</td>\n",
       "      <td>2 Cr</td>\n",
       "      <td>ALL-ROUNDER</td>\n",
       "      <td>4.40</td>\n",
       "      <td>572.0</td>\n",
       "      <td>Chennai Super Kings</td>\n",
       "      <td>Chennai Super Kings</td>\n",
       "      <td>sold</td>\n",
       "      <td>In Auction</td>\n",
       "      <td>Cr</td>\n",
       "      <td>2</td>\n",
       "    </tr>\n",
       "    <tr>\n",
       "      <th>31</th>\n",
       "      <td>Robin Uthappa</td>\n",
       "      <td>2 Cr</td>\n",
       "      <td>BATTER</td>\n",
       "      <td>2.00</td>\n",
       "      <td>260.0</td>\n",
       "      <td>Chennai Super Kings</td>\n",
       "      <td>Chennai Super Kings</td>\n",
       "      <td>sold</td>\n",
       "      <td>In Auction</td>\n",
       "      <td>Cr</td>\n",
       "      <td>2</td>\n",
       "    </tr>\n",
       "    <tr>\n",
       "      <th>32</th>\n",
       "      <td>Mitchell Santner</td>\n",
       "      <td>1 Cr</td>\n",
       "      <td>ALL-ROUNDER</td>\n",
       "      <td>1.90</td>\n",
       "      <td>247.0</td>\n",
       "      <td>Chennai Super Kings</td>\n",
       "      <td>Chennai Super Kings</td>\n",
       "      <td>sold</td>\n",
       "      <td>In Auction</td>\n",
       "      <td>Cr</td>\n",
       "      <td>1</td>\n",
       "    </tr>\n",
       "    <tr>\n",
       "      <th>39</th>\n",
       "      <td>K.Bhagath Varma</td>\n",
       "      <td>20 Lakh</td>\n",
       "      <td>ALL-ROUNDER</td>\n",
       "      <td>0.20</td>\n",
       "      <td>26.0</td>\n",
       "      <td>Chennai Super Kings</td>\n",
       "      <td>Chennai Super Kings</td>\n",
       "      <td>sold</td>\n",
       "      <td>In Auction</td>\n",
       "      <td>Lakh</td>\n",
       "      <td>20</td>\n",
       "    </tr>\n",
       "    <tr>\n",
       "      <th>41</th>\n",
       "      <td>N. Jagadeesan</td>\n",
       "      <td>20 Lakh</td>\n",
       "      <td>WICKETKEEPER</td>\n",
       "      <td>0.20</td>\n",
       "      <td>26.0</td>\n",
       "      <td>Chennai Super Kings</td>\n",
       "      <td>Chennai Super Kings</td>\n",
       "      <td>sold</td>\n",
       "      <td>In Auction</td>\n",
       "      <td>Lakh</td>\n",
       "      <td>20</td>\n",
       "    </tr>\n",
       "    <tr>\n",
       "      <th>42</th>\n",
       "      <td>C.Hari Nishaanth</td>\n",
       "      <td>20 Lakh</td>\n",
       "      <td>BATTER</td>\n",
       "      <td>0.20</td>\n",
       "      <td>26.0</td>\n",
       "      <td>Chennai Super Kings</td>\n",
       "      <td>Chennai Super Kings</td>\n",
       "      <td>sold</td>\n",
       "      <td>In Auction</td>\n",
       "      <td>Lakh</td>\n",
       "      <td>20</td>\n",
       "    </tr>\n",
       "    <tr>\n",
       "      <th>43</th>\n",
       "      <td>K.M. Asif</td>\n",
       "      <td>20 Lakh</td>\n",
       "      <td>BOWLER</td>\n",
       "      <td>0.20</td>\n",
       "      <td>26.0</td>\n",
       "      <td>Chennai Super Kings</td>\n",
       "      <td>Chennai Super Kings</td>\n",
       "      <td>sold</td>\n",
       "      <td>In Auction</td>\n",
       "      <td>Lakh</td>\n",
       "      <td>20</td>\n",
       "    </tr>\n",
       "    <tr>\n",
       "      <th>62</th>\n",
       "      <td>Lalit Yadav</td>\n",
       "      <td>20 Lakh</td>\n",
       "      <td>ALL-ROUNDER</td>\n",
       "      <td>0.65</td>\n",
       "      <td>84.5</td>\n",
       "      <td>Delhi Capitals</td>\n",
       "      <td>Delhi Capitals</td>\n",
       "      <td>sold</td>\n",
       "      <td>In Auction</td>\n",
       "      <td>Lakh</td>\n",
       "      <td>20</td>\n",
       "    </tr>\n",
       "    <tr>\n",
       "      <th>64</th>\n",
       "      <td>Pravin Dubey</td>\n",
       "      <td>20 Lakh</td>\n",
       "      <td>ALL-ROUNDER</td>\n",
       "      <td>0.50</td>\n",
       "      <td>65.0</td>\n",
       "      <td>Delhi Capitals</td>\n",
       "      <td>Delhi Capitals</td>\n",
       "      <td>sold</td>\n",
       "      <td>In Auction</td>\n",
       "      <td>Lakh</td>\n",
       "      <td>20</td>\n",
       "    </tr>\n",
       "    <tr>\n",
       "      <th>69</th>\n",
       "      <td>Ripal Patel</td>\n",
       "      <td>20 Lakh</td>\n",
       "      <td>ALL-ROUNDER</td>\n",
       "      <td>0.20</td>\n",
       "      <td>26.0</td>\n",
       "      <td>Delhi Capitals</td>\n",
       "      <td>Delhi Capitals</td>\n",
       "      <td>sold</td>\n",
       "      <td>In Auction</td>\n",
       "      <td>Lakh</td>\n",
       "      <td>20</td>\n",
       "    </tr>\n",
       "    <tr>\n",
       "      <th>73</th>\n",
       "      <td>Nitish Rana</td>\n",
       "      <td>1 Cr</td>\n",
       "      <td>ALL-ROUNDER</td>\n",
       "      <td>8.00</td>\n",
       "      <td>1040.0</td>\n",
       "      <td>Kolkata Knight Riders</td>\n",
       "      <td>Kolkata Knight Riders</td>\n",
       "      <td>sold</td>\n",
       "      <td>In Auction</td>\n",
       "      <td>Cr</td>\n",
       "      <td>1</td>\n",
       "    </tr>\n",
       "    <tr>\n",
       "      <th>76</th>\n",
       "      <td>Pat Cummins</td>\n",
       "      <td>2 Cr</td>\n",
       "      <td>ALL-ROUNDER</td>\n",
       "      <td>7.25</td>\n",
       "      <td>942.5</td>\n",
       "      <td>Kolkata Knight Riders</td>\n",
       "      <td>Kolkata Knight Riders</td>\n",
       "      <td>sold</td>\n",
       "      <td>In Auction</td>\n",
       "      <td>Cr</td>\n",
       "      <td>2</td>\n",
       "    </tr>\n",
       "    <tr>\n",
       "      <th>77</th>\n",
       "      <td>Shivam Mavi</td>\n",
       "      <td>40 Lakh</td>\n",
       "      <td>ALL-ROUNDER</td>\n",
       "      <td>7.25</td>\n",
       "      <td>942.5</td>\n",
       "      <td>Kolkata Knight Riders</td>\n",
       "      <td>Kolkata Knight Riders</td>\n",
       "      <td>sold</td>\n",
       "      <td>In Auction</td>\n",
       "      <td>Lakh</td>\n",
       "      <td>40</td>\n",
       "    </tr>\n",
       "    <tr>\n",
       "      <th>81</th>\n",
       "      <td>Tim Southee</td>\n",
       "      <td>1.5 Cr</td>\n",
       "      <td>BOWLER</td>\n",
       "      <td>1.50</td>\n",
       "      <td>195.0</td>\n",
       "      <td>Kolkata Knight Riders</td>\n",
       "      <td>Kolkata Knight Riders</td>\n",
       "      <td>sold</td>\n",
       "      <td>In Auction</td>\n",
       "      <td>Cr</td>\n",
       "      <td>1.5</td>\n",
       "    </tr>\n",
       "    <tr>\n",
       "      <th>85</th>\n",
       "      <td>Sheldon Jackson</td>\n",
       "      <td>30 Lakh</td>\n",
       "      <td>WICKETKEEPER</td>\n",
       "      <td>0.60</td>\n",
       "      <td>78.0</td>\n",
       "      <td>Kolkata Knight Riders</td>\n",
       "      <td>Kolkata Knight Riders</td>\n",
       "      <td>sold</td>\n",
       "      <td>In Auction</td>\n",
       "      <td>Lakh</td>\n",
       "      <td>30</td>\n",
       "    </tr>\n",
       "    <tr>\n",
       "      <th>99</th>\n",
       "      <td>Shahrukh Khan</td>\n",
       "      <td>40 Lakh</td>\n",
       "      <td>ALL-ROUNDER</td>\n",
       "      <td>9.00</td>\n",
       "      <td>1170.0</td>\n",
       "      <td>Punjab Kings</td>\n",
       "      <td>Punjab Kings</td>\n",
       "      <td>sold</td>\n",
       "      <td>In Auction</td>\n",
       "      <td>Lakh</td>\n",
       "      <td>40</td>\n",
       "    </tr>\n",
       "    <tr>\n",
       "      <th>105</th>\n",
       "      <td>Harpreet Brar</td>\n",
       "      <td>20 Lakh</td>\n",
       "      <td>ALL-ROUNDER</td>\n",
       "      <td>3.80</td>\n",
       "      <td>494.0</td>\n",
       "      <td>Punjab Kings</td>\n",
       "      <td>Punjab Kings</td>\n",
       "      <td>sold</td>\n",
       "      <td>In Auction</td>\n",
       "      <td>Lakh</td>\n",
       "      <td>20</td>\n",
       "    </tr>\n",
       "    <tr>\n",
       "      <th>108</th>\n",
       "      <td>Nathan Ellis</td>\n",
       "      <td>75 Lakh</td>\n",
       "      <td>BOWLER</td>\n",
       "      <td>0.75</td>\n",
       "      <td>97.5</td>\n",
       "      <td>Punjab Kings</td>\n",
       "      <td>Punjab Kings</td>\n",
       "      <td>sold</td>\n",
       "      <td>In Auction</td>\n",
       "      <td>Lakh</td>\n",
       "      <td>75</td>\n",
       "    </tr>\n",
       "    <tr>\n",
       "      <th>109</th>\n",
       "      <td>Prabhsimran Singh</td>\n",
       "      <td>20 Lakh</td>\n",
       "      <td>WICKETKEEPER</td>\n",
       "      <td>0.60</td>\n",
       "      <td>78.0</td>\n",
       "      <td>Punjab Kings</td>\n",
       "      <td>Punjab Kings</td>\n",
       "      <td>sold</td>\n",
       "      <td>In Auction</td>\n",
       "      <td>Lakh</td>\n",
       "      <td>20</td>\n",
       "    </tr>\n",
       "    <tr>\n",
       "      <th>114</th>\n",
       "      <td>Ishan Porel</td>\n",
       "      <td>20 Lakh</td>\n",
       "      <td>BOWLER</td>\n",
       "      <td>0.25</td>\n",
       "      <td>32.5</td>\n",
       "      <td>Punjab Kings</td>\n",
       "      <td>Punjab Kings</td>\n",
       "      <td>sold</td>\n",
       "      <td>In Auction</td>\n",
       "      <td>Lakh</td>\n",
       "      <td>20</td>\n",
       "    </tr>\n",
       "    <tr>\n",
       "      <th>144</th>\n",
       "      <td>Ishan Kishan</td>\n",
       "      <td>2 Cr</td>\n",
       "      <td>WICKETKEEPER</td>\n",
       "      <td>15.25</td>\n",
       "      <td>1982.5</td>\n",
       "      <td>Mumbai Indians</td>\n",
       "      <td>Mumbai Indians</td>\n",
       "      <td>sold</td>\n",
       "      <td>In Auction</td>\n",
       "      <td>Cr</td>\n",
       "      <td>2</td>\n",
       "    </tr>\n",
       "    <tr>\n",
       "      <th>160</th>\n",
       "      <td>Arjun Tendulkar</td>\n",
       "      <td>20 Lakh</td>\n",
       "      <td>ALL-ROUNDER</td>\n",
       "      <td>0.30</td>\n",
       "      <td>39.0</td>\n",
       "      <td>Mumbai Indians</td>\n",
       "      <td>Mumbai Indians</td>\n",
       "      <td>sold</td>\n",
       "      <td>In Auction</td>\n",
       "      <td>Lakh</td>\n",
       "      <td>20</td>\n",
       "    </tr>\n",
       "    <tr>\n",
       "      <th>162</th>\n",
       "      <td>Anmolpreet Singh</td>\n",
       "      <td>20 Lakh</td>\n",
       "      <td>BATTER</td>\n",
       "      <td>0.20</td>\n",
       "      <td>26.0</td>\n",
       "      <td>Mumbai Indians</td>\n",
       "      <td>Mumbai Indians</td>\n",
       "      <td>sold</td>\n",
       "      <td>In Auction</td>\n",
       "      <td>Lakh</td>\n",
       "      <td>20</td>\n",
       "    </tr>\n",
       "    <tr>\n",
       "      <th>170</th>\n",
       "      <td>Wanindu Hasaranga</td>\n",
       "      <td>1 Cr</td>\n",
       "      <td>ALL-ROUNDER</td>\n",
       "      <td>10.75</td>\n",
       "      <td>1397.5</td>\n",
       "      <td>Royal Challengers Bangalore</td>\n",
       "      <td>Royal Challengers Bangalore</td>\n",
       "      <td>sold</td>\n",
       "      <td>In Auction</td>\n",
       "      <td>Cr</td>\n",
       "      <td>1</td>\n",
       "    </tr>\n",
       "    <tr>\n",
       "      <th>171</th>\n",
       "      <td>Harshal Patel</td>\n",
       "      <td>2 Cr</td>\n",
       "      <td>ALL-ROUNDER</td>\n",
       "      <td>10.75</td>\n",
       "      <td>1397.5</td>\n",
       "      <td>Royal Challengers Bangalore</td>\n",
       "      <td>Royal Challengers Bangalore</td>\n",
       "      <td>sold</td>\n",
       "      <td>In Auction</td>\n",
       "      <td>Cr</td>\n",
       "      <td>2</td>\n",
       "    </tr>\n",
       "    <tr>\n",
       "      <th>177</th>\n",
       "      <td>Shahbaz Ahamad</td>\n",
       "      <td>30 Lakh</td>\n",
       "      <td>ALL-ROUNDER</td>\n",
       "      <td>2.40</td>\n",
       "      <td>312.0</td>\n",
       "      <td>Royal Challengers Bangalore</td>\n",
       "      <td>Royal Challengers Bangalore</td>\n",
       "      <td>sold</td>\n",
       "      <td>In Auction</td>\n",
       "      <td>Lakh</td>\n",
       "      <td>30</td>\n",
       "    </tr>\n",
       "    <tr>\n",
       "      <th>181</th>\n",
       "      <td>Finn Allen</td>\n",
       "      <td>50 Lakh</td>\n",
       "      <td>BATTER</td>\n",
       "      <td>0.80</td>\n",
       "      <td>104.0</td>\n",
       "      <td>Royal Challengers Bangalore</td>\n",
       "      <td>Royal Challengers Bangalore</td>\n",
       "      <td>sold</td>\n",
       "      <td>In Auction</td>\n",
       "      <td>Lakh</td>\n",
       "      <td>50</td>\n",
       "    </tr>\n",
       "    <tr>\n",
       "      <th>185</th>\n",
       "      <td>Suyash Prabhudessai</td>\n",
       "      <td>20 Lakh</td>\n",
       "      <td>ALL-ROUNDER</td>\n",
       "      <td>0.30</td>\n",
       "      <td>39.0</td>\n",
       "      <td>Royal Challengers Bangalore</td>\n",
       "      <td>Royal Challengers Bangalore</td>\n",
       "      <td>sold</td>\n",
       "      <td>In Auction</td>\n",
       "      <td>Lakh</td>\n",
       "      <td>20</td>\n",
       "    </tr>\n",
       "    <tr>\n",
       "      <th>187</th>\n",
       "      <td>Akash Deep</td>\n",
       "      <td>20 Lakh</td>\n",
       "      <td>BOWLER</td>\n",
       "      <td>0.20</td>\n",
       "      <td>26.0</td>\n",
       "      <td>Royal Challengers Bangalore</td>\n",
       "      <td>Royal Challengers Bangalore</td>\n",
       "      <td>sold</td>\n",
       "      <td>In Auction</td>\n",
       "      <td>Lakh</td>\n",
       "      <td>20</td>\n",
       "    </tr>\n",
       "    <tr>\n",
       "      <th>199</th>\n",
       "      <td>Riyan Parag</td>\n",
       "      <td>30 Lakh</td>\n",
       "      <td>ALL-ROUNDER</td>\n",
       "      <td>3.80</td>\n",
       "      <td>494.0</td>\n",
       "      <td>Rajasthan Royals</td>\n",
       "      <td>Rajasthan Royals</td>\n",
       "      <td>sold</td>\n",
       "      <td>In Auction</td>\n",
       "      <td>Lakh</td>\n",
       "      <td>30</td>\n",
       "    </tr>\n",
       "    <tr>\n",
       "      <th>207</th>\n",
       "      <td>K.C Cariappa</td>\n",
       "      <td>20 Lakh</td>\n",
       "      <td>BOWLER</td>\n",
       "      <td>0.30</td>\n",
       "      <td>39.0</td>\n",
       "      <td>Rajasthan Royals</td>\n",
       "      <td>Rajasthan Royals</td>\n",
       "      <td>sold</td>\n",
       "      <td>In Auction</td>\n",
       "      <td>Lakh</td>\n",
       "      <td>20</td>\n",
       "    </tr>\n",
       "    <tr>\n",
       "      <th>212</th>\n",
       "      <td>Kuldip Yadav</td>\n",
       "      <td>20 Lakh</td>\n",
       "      <td>BOWLER</td>\n",
       "      <td>0.20</td>\n",
       "      <td>26.0</td>\n",
       "      <td>Rajasthan Royals</td>\n",
       "      <td>Rajasthan Royals</td>\n",
       "      <td>sold</td>\n",
       "      <td>In Auction</td>\n",
       "      <td>Lakh</td>\n",
       "      <td>20</td>\n",
       "    </tr>\n",
       "    <tr>\n",
       "      <th>219</th>\n",
       "      <td>Abhishek Sharma</td>\n",
       "      <td>20 Lakh</td>\n",
       "      <td>ALL-ROUNDER</td>\n",
       "      <td>6.50</td>\n",
       "      <td>845.0</td>\n",
       "      <td>Sunrisers Hyderabad</td>\n",
       "      <td>Sunrisers Hyderabad</td>\n",
       "      <td>sold</td>\n",
       "      <td>In Auction</td>\n",
       "      <td>Lakh</td>\n",
       "      <td>20</td>\n",
       "    </tr>\n",
       "    <tr>\n",
       "      <th>221</th>\n",
       "      <td>Bhuvneshwar Kumar</td>\n",
       "      <td>2 Cr</td>\n",
       "      <td>BOWLER</td>\n",
       "      <td>4.20</td>\n",
       "      <td>546.0</td>\n",
       "      <td>Sunrisers Hyderabad</td>\n",
       "      <td>Sunrisers Hyderabad</td>\n",
       "      <td>sold</td>\n",
       "      <td>In Auction</td>\n",
       "      <td>Cr</td>\n",
       "      <td>2</td>\n",
       "    </tr>\n",
       "    <tr>\n",
       "      <th>222</th>\n",
       "      <td>T. Natarajan</td>\n",
       "      <td>1 Cr</td>\n",
       "      <td>BOWLER</td>\n",
       "      <td>4.00</td>\n",
       "      <td>520.0</td>\n",
       "      <td>Sunrisers Hyderabad</td>\n",
       "      <td>Sunrisers Hyderabad</td>\n",
       "      <td>sold</td>\n",
       "      <td>In Auction</td>\n",
       "      <td>Cr</td>\n",
       "      <td>1</td>\n",
       "    </tr>\n",
       "    <tr>\n",
       "      <th>232</th>\n",
       "      <td>Priyam Garg</td>\n",
       "      <td>20 Lakh</td>\n",
       "      <td>BATTER</td>\n",
       "      <td>0.20</td>\n",
       "      <td>26.0</td>\n",
       "      <td>Sunrisers Hyderabad</td>\n",
       "      <td>Sunrisers Hyderabad</td>\n",
       "      <td>sold</td>\n",
       "      <td>In Auction</td>\n",
       "      <td>Lakh</td>\n",
       "      <td>20</td>\n",
       "    </tr>\n",
       "    <tr>\n",
       "      <th>234</th>\n",
       "      <td>Jagadeesha Suchith</td>\n",
       "      <td>20 Lakh</td>\n",
       "      <td>BOWLER</td>\n",
       "      <td>0.20</td>\n",
       "      <td>26.0</td>\n",
       "      <td>Sunrisers Hyderabad</td>\n",
       "      <td>Sunrisers Hyderabad</td>\n",
       "      <td>sold</td>\n",
       "      <td>In Auction</td>\n",
       "      <td>Lakh</td>\n",
       "      <td>20</td>\n",
       "    </tr>\n",
       "  </tbody>\n",
       "</table>\n",
       "</div>"
      ],
      "text/plain": [
       "                  Player Base Price          TYPE  COST IN ₹ (CR.)  \\\n",
       "23         Deepak Chahar       2 Cr        BOWLER            14.00   \n",
       "26         Ambati Rayudu       2 Cr  WICKETKEEPER             6.75   \n",
       "28          Dwayne Bravo       2 Cr   ALL-ROUNDER             4.40   \n",
       "31         Robin Uthappa       2 Cr        BATTER             2.00   \n",
       "32      Mitchell Santner       1 Cr   ALL-ROUNDER             1.90   \n",
       "39       K.Bhagath Varma    20 Lakh   ALL-ROUNDER             0.20   \n",
       "41         N. Jagadeesan    20 Lakh  WICKETKEEPER             0.20   \n",
       "42      C.Hari Nishaanth    20 Lakh        BATTER             0.20   \n",
       "43             K.M. Asif    20 Lakh        BOWLER             0.20   \n",
       "62           Lalit Yadav    20 Lakh   ALL-ROUNDER             0.65   \n",
       "64          Pravin Dubey    20 Lakh   ALL-ROUNDER             0.50   \n",
       "69           Ripal Patel    20 Lakh   ALL-ROUNDER             0.20   \n",
       "73           Nitish Rana       1 Cr   ALL-ROUNDER             8.00   \n",
       "76           Pat Cummins       2 Cr   ALL-ROUNDER             7.25   \n",
       "77           Shivam Mavi    40 Lakh   ALL-ROUNDER             7.25   \n",
       "81           Tim Southee     1.5 Cr        BOWLER             1.50   \n",
       "85       Sheldon Jackson    30 Lakh  WICKETKEEPER             0.60   \n",
       "99         Shahrukh Khan    40 Lakh   ALL-ROUNDER             9.00   \n",
       "105        Harpreet Brar    20 Lakh   ALL-ROUNDER             3.80   \n",
       "108         Nathan Ellis    75 Lakh        BOWLER             0.75   \n",
       "109    Prabhsimran Singh    20 Lakh  WICKETKEEPER             0.60   \n",
       "114          Ishan Porel    20 Lakh        BOWLER             0.25   \n",
       "144         Ishan Kishan       2 Cr  WICKETKEEPER            15.25   \n",
       "160      Arjun Tendulkar    20 Lakh   ALL-ROUNDER             0.30   \n",
       "162     Anmolpreet Singh    20 Lakh        BATTER             0.20   \n",
       "170    Wanindu Hasaranga       1 Cr   ALL-ROUNDER            10.75   \n",
       "171        Harshal Patel       2 Cr   ALL-ROUNDER            10.75   \n",
       "177       Shahbaz Ahamad    30 Lakh   ALL-ROUNDER             2.40   \n",
       "181           Finn Allen    50 Lakh        BATTER             0.80   \n",
       "185  Suyash Prabhudessai    20 Lakh   ALL-ROUNDER             0.30   \n",
       "187           Akash Deep    20 Lakh        BOWLER             0.20   \n",
       "199          Riyan Parag    30 Lakh   ALL-ROUNDER             3.80   \n",
       "207         K.C Cariappa    20 Lakh        BOWLER             0.30   \n",
       "212         Kuldip Yadav    20 Lakh        BOWLER             0.20   \n",
       "219      Abhishek Sharma    20 Lakh   ALL-ROUNDER             6.50   \n",
       "221    Bhuvneshwar Kumar       2 Cr        BOWLER             4.20   \n",
       "222         T. Natarajan       1 Cr        BOWLER             4.00   \n",
       "232          Priyam Garg    20 Lakh        BATTER             0.20   \n",
       "234   Jagadeesha Suchith    20 Lakh        BOWLER             0.20   \n",
       "\n",
       "     Cost IN $ (000)                   2021 Squad  \\\n",
       "23            1820.0          Chennai Super Kings   \n",
       "26             877.5          Chennai Super Kings   \n",
       "28             572.0          Chennai Super Kings   \n",
       "31             260.0          Chennai Super Kings   \n",
       "32             247.0          Chennai Super Kings   \n",
       "39              26.0          Chennai Super Kings   \n",
       "41              26.0          Chennai Super Kings   \n",
       "42              26.0          Chennai Super Kings   \n",
       "43              26.0          Chennai Super Kings   \n",
       "62              84.5               Delhi Capitals   \n",
       "64              65.0               Delhi Capitals   \n",
       "69              26.0               Delhi Capitals   \n",
       "73            1040.0        Kolkata Knight Riders   \n",
       "76             942.5        Kolkata Knight Riders   \n",
       "77             942.5        Kolkata Knight Riders   \n",
       "81             195.0        Kolkata Knight Riders   \n",
       "85              78.0        Kolkata Knight Riders   \n",
       "99            1170.0                 Punjab Kings   \n",
       "105            494.0                 Punjab Kings   \n",
       "108             97.5                 Punjab Kings   \n",
       "109             78.0                 Punjab Kings   \n",
       "114             32.5                 Punjab Kings   \n",
       "144           1982.5               Mumbai Indians   \n",
       "160             39.0               Mumbai Indians   \n",
       "162             26.0               Mumbai Indians   \n",
       "170           1397.5  Royal Challengers Bangalore   \n",
       "171           1397.5  Royal Challengers Bangalore   \n",
       "177            312.0  Royal Challengers Bangalore   \n",
       "181            104.0  Royal Challengers Bangalore   \n",
       "185             39.0  Royal Challengers Bangalore   \n",
       "187             26.0  Royal Challengers Bangalore   \n",
       "199            494.0             Rajasthan Royals   \n",
       "207             39.0             Rajasthan Royals   \n",
       "212             26.0             Rajasthan Royals   \n",
       "219            845.0          Sunrisers Hyderabad   \n",
       "221            546.0          Sunrisers Hyderabad   \n",
       "222            520.0          Sunrisers Hyderabad   \n",
       "232             26.0          Sunrisers Hyderabad   \n",
       "234             26.0          Sunrisers Hyderabad   \n",
       "\n",
       "                            Team Status   retention base_price_unit base_price  \n",
       "23           Chennai Super Kings   sold  In Auction              Cr          2  \n",
       "26           Chennai Super Kings   sold  In Auction              Cr          2  \n",
       "28           Chennai Super Kings   sold  In Auction              Cr          2  \n",
       "31           Chennai Super Kings   sold  In Auction              Cr          2  \n",
       "32           Chennai Super Kings   sold  In Auction              Cr          1  \n",
       "39           Chennai Super Kings   sold  In Auction            Lakh         20  \n",
       "41           Chennai Super Kings   sold  In Auction            Lakh         20  \n",
       "42           Chennai Super Kings   sold  In Auction            Lakh         20  \n",
       "43           Chennai Super Kings   sold  In Auction            Lakh         20  \n",
       "62                Delhi Capitals   sold  In Auction            Lakh         20  \n",
       "64                Delhi Capitals   sold  In Auction            Lakh         20  \n",
       "69                Delhi Capitals   sold  In Auction            Lakh         20  \n",
       "73         Kolkata Knight Riders   sold  In Auction              Cr          1  \n",
       "76         Kolkata Knight Riders   sold  In Auction              Cr          2  \n",
       "77         Kolkata Knight Riders   sold  In Auction            Lakh         40  \n",
       "81         Kolkata Knight Riders   sold  In Auction              Cr        1.5  \n",
       "85         Kolkata Knight Riders   sold  In Auction            Lakh         30  \n",
       "99                  Punjab Kings   sold  In Auction            Lakh         40  \n",
       "105                 Punjab Kings   sold  In Auction            Lakh         20  \n",
       "108                 Punjab Kings   sold  In Auction            Lakh         75  \n",
       "109                 Punjab Kings   sold  In Auction            Lakh         20  \n",
       "114                 Punjab Kings   sold  In Auction            Lakh         20  \n",
       "144               Mumbai Indians   sold  In Auction              Cr          2  \n",
       "160               Mumbai Indians   sold  In Auction            Lakh         20  \n",
       "162               Mumbai Indians   sold  In Auction            Lakh         20  \n",
       "170  Royal Challengers Bangalore   sold  In Auction              Cr          1  \n",
       "171  Royal Challengers Bangalore   sold  In Auction              Cr          2  \n",
       "177  Royal Challengers Bangalore   sold  In Auction            Lakh         30  \n",
       "181  Royal Challengers Bangalore   sold  In Auction            Lakh         50  \n",
       "185  Royal Challengers Bangalore   sold  In Auction            Lakh         20  \n",
       "187  Royal Challengers Bangalore   sold  In Auction            Lakh         20  \n",
       "199             Rajasthan Royals   sold  In Auction            Lakh         30  \n",
       "207             Rajasthan Royals   sold  In Auction            Lakh         20  \n",
       "212             Rajasthan Royals   sold  In Auction            Lakh         20  \n",
       "219          Sunrisers Hyderabad   sold  In Auction            Lakh         20  \n",
       "221          Sunrisers Hyderabad   sold  In Auction              Cr          2  \n",
       "222          Sunrisers Hyderabad   sold  In Auction              Cr          1  \n",
       "232          Sunrisers Hyderabad   sold  In Auction            Lakh         20  \n",
       "234          Sunrisers Hyderabad   sold  In Auction            Lakh         20  "
      ]
     },
     "execution_count": 39,
     "metadata": {},
     "output_type": "execute_result"
    }
   ],
   "source": [
    "same_team = ipl[(ipl['Team']==ipl['2021 Squad']) & (ipl['retention']=='In Auction')]\n",
    "same_team"
   ]
  },
  {
   "cell_type": "code",
   "execution_count": null,
   "id": "b32dda00",
   "metadata": {},
   "outputs": [],
   "source": []
  },
  {
   "cell_type": "code",
   "execution_count": 40,
   "id": "ce6dc695",
   "metadata": {},
   "outputs": [
    {
     "data": {
      "text/html": [
       "<div>\n",
       "<style scoped>\n",
       "    .dataframe tbody tr th:only-of-type {\n",
       "        vertical-align: middle;\n",
       "    }\n",
       "\n",
       "    .dataframe tbody tr th {\n",
       "        vertical-align: top;\n",
       "    }\n",
       "\n",
       "    .dataframe thead th {\n",
       "        text-align: right;\n",
       "    }\n",
       "</style>\n",
       "<table border=\"1\" class=\"dataframe\">\n",
       "  <thead>\n",
       "    <tr style=\"text-align: right;\">\n",
       "      <th></th>\n",
       "      <th>Player</th>\n",
       "      <th>Base Price</th>\n",
       "      <th>TYPE</th>\n",
       "      <th>COST IN ₹ (CR.)</th>\n",
       "      <th>Cost IN $ (000)</th>\n",
       "      <th>2021 Squad</th>\n",
       "      <th>Team</th>\n",
       "      <th>Status</th>\n",
       "      <th>retention</th>\n",
       "      <th>base_price_unit</th>\n",
       "      <th>base_price</th>\n",
       "    </tr>\n",
       "  </thead>\n",
       "  <tbody>\n",
       "    <tr>\n",
       "      <th>407</th>\n",
       "      <td>Keemo Paul</td>\n",
       "      <td>75 Lakh</td>\n",
       "      <td>ALL-ROUNDER</td>\n",
       "      <td>0.0</td>\n",
       "      <td>0.0</td>\n",
       "      <td>not picked</td>\n",
       "      <td>Unsold</td>\n",
       "      <td>Unsold</td>\n",
       "      <td>In Auction</td>\n",
       "      <td>Lakh</td>\n",
       "      <td>75</td>\n",
       "    </tr>\n",
       "  </tbody>\n",
       "</table>\n",
       "</div>"
      ],
      "text/plain": [
       "         Player Base Price         TYPE  COST IN ₹ (CR.)  Cost IN $ (000)  \\\n",
       "407  Keemo Paul    75 Lakh  ALL-ROUNDER              0.0              0.0   \n",
       "\n",
       "     2021 Squad    Team  Status   retention base_price_unit base_price  \n",
       "407  not picked  Unsold  Unsold  In Auction            Lakh         75  "
      ]
     },
     "execution_count": 40,
     "metadata": {},
     "output_type": "execute_result"
    }
   ],
   "source": [
    "\n",
    "#7. How many Players Brought by Each Team\n",
    "\n",
    "ipl.sample()"
   ]
  },
  {
   "cell_type": "code",
   "execution_count": 41,
   "id": "d27c0727",
   "metadata": {},
   "outputs": [
    {
     "data": {
      "image/png": "[encoded data removed]",
      "text/plain": [
       "<Figure size 2000x1000 with 1 Axes>"
      ]
     },
     "metadata": {},
     "output_type": "display_data"
    }
   ],
   "source": [
    "plt.figure(figsize=(20,10))\n",
    "fig = sns.countplot(ipl[ipl['Team']!='Unsold']['Team'])\n",
    "plt.xlabel('Name of Team')\n",
    "plt.ylabel('Number of Players')\n",
    "plt.title('Players Brought  by each Team', fontsize=15)\n",
    "plt.xticks(rotation=90)\n",
    "plt.plot()\n",
    "\n",
    "for p in fig.patches:\n",
    "    fig.annotate(format(p.get_height(), '.0f'), (p.get_x() + p.get_width()/2., p.get_height()), ha = 'center', va = 'center', xytext = (0, 4), textcoords = 'offset points')"
   ]
  },
  {
   "cell_type": "code",
   "execution_count": 42,
   "id": "6b18bd80",
   "metadata": {},
   "outputs": [
    {
     "data": {
      "text/html": [
       "<div>\n",
       "<style scoped>\n",
       "    .dataframe tbody tr th:only-of-type {\n",
       "        vertical-align: middle;\n",
       "    }\n",
       "\n",
       "    .dataframe tbody tr th {\n",
       "        vertical-align: top;\n",
       "    }\n",
       "\n",
       "    .dataframe thead th {\n",
       "        text-align: right;\n",
       "    }\n",
       "</style>\n",
       "<table border=\"1\" class=\"dataframe\">\n",
       "  <thead>\n",
       "    <tr style=\"text-align: right;\">\n",
       "      <th></th>\n",
       "      <th>Player</th>\n",
       "      <th>Base Price</th>\n",
       "      <th>TYPE</th>\n",
       "      <th>COST IN ₹ (CR.)</th>\n",
       "      <th>Cost IN $ (000)</th>\n",
       "      <th>2021 Squad</th>\n",
       "      <th>Team</th>\n",
       "      <th>Status</th>\n",
       "      <th>retention</th>\n",
       "      <th>base_price_unit</th>\n",
       "      <th>base_price</th>\n",
       "    </tr>\n",
       "  </thead>\n",
       "  <tbody>\n",
       "    <tr>\n",
       "      <th>0</th>\n",
       "      <td>Rashid Khan</td>\n",
       "      <td>0</td>\n",
       "      <td>BOWLER</td>\n",
       "      <td>15.0</td>\n",
       "      <td>1950.0</td>\n",
       "      <td>Sunrisers Hyderabad</td>\n",
       "      <td>Gujarat Titans</td>\n",
       "      <td>sold</td>\n",
       "      <td>Draft Pick</td>\n",
       "      <td>0</td>\n",
       "      <td>0</td>\n",
       "    </tr>\n",
       "    <tr>\n",
       "      <th>1</th>\n",
       "      <td>Hardik Pandya</td>\n",
       "      <td>0</td>\n",
       "      <td>ALL-ROUNDER</td>\n",
       "      <td>15.0</td>\n",
       "      <td>1950.0</td>\n",
       "      <td>Mumbai Indians</td>\n",
       "      <td>Gujarat Titans</td>\n",
       "      <td>sold</td>\n",
       "      <td>Draft Pick</td>\n",
       "      <td>0</td>\n",
       "      <td>0</td>\n",
       "    </tr>\n",
       "    <tr>\n",
       "      <th>2</th>\n",
       "      <td>Lockie Ferguson</td>\n",
       "      <td>2 Cr</td>\n",
       "      <td>BOWLER</td>\n",
       "      <td>10.0</td>\n",
       "      <td>1300.0</td>\n",
       "      <td>Kolkata Knight Riders</td>\n",
       "      <td>Gujarat Titans</td>\n",
       "      <td>sold</td>\n",
       "      <td>In Auction</td>\n",
       "      <td>Cr</td>\n",
       "      <td>2</td>\n",
       "    </tr>\n",
       "    <tr>\n",
       "      <th>3</th>\n",
       "      <td>Rahul Tewatia</td>\n",
       "      <td>40 Lakh</td>\n",
       "      <td>ALL-ROUNDER</td>\n",
       "      <td>9.0</td>\n",
       "      <td>1170.0</td>\n",
       "      <td>Rajasthan Royals</td>\n",
       "      <td>Gujarat Titans</td>\n",
       "      <td>sold</td>\n",
       "      <td>In Auction</td>\n",
       "      <td>Lakh</td>\n",
       "      <td>40</td>\n",
       "    </tr>\n",
       "    <tr>\n",
       "      <th>4</th>\n",
       "      <td>Shubman Gill</td>\n",
       "      <td>0</td>\n",
       "      <td>BATTER</td>\n",
       "      <td>8.0</td>\n",
       "      <td>1040.0</td>\n",
       "      <td>Kolkata Knight Riders</td>\n",
       "      <td>Gujarat Titans</td>\n",
       "      <td>sold</td>\n",
       "      <td>Draft Pick</td>\n",
       "      <td>0</td>\n",
       "      <td>0</td>\n",
       "    </tr>\n",
       "  </tbody>\n",
       "</table>\n",
       "</div>"
      ],
      "text/plain": [
       "            Player Base Price         TYPE  COST IN ₹ (CR.)  Cost IN $ (000)  \\\n",
       "0      Rashid Khan          0       BOWLER             15.0           1950.0   \n",
       "1    Hardik Pandya          0  ALL-ROUNDER             15.0           1950.0   \n",
       "2  Lockie Ferguson       2 Cr       BOWLER             10.0           1300.0   \n",
       "3    Rahul Tewatia    40 Lakh  ALL-ROUNDER              9.0           1170.0   \n",
       "4     Shubman Gill          0       BATTER              8.0           1040.0   \n",
       "\n",
       "              2021 Squad            Team Status   retention base_price_unit  \\\n",
       "0    Sunrisers Hyderabad  Gujarat Titans   sold  Draft Pick               0   \n",
       "1         Mumbai Indians  Gujarat Titans   sold  Draft Pick               0   \n",
       "2  Kolkata Knight Riders  Gujarat Titans   sold  In Auction              Cr   \n",
       "3       Rajasthan Royals  Gujarat Titans   sold  In Auction            Lakh   \n",
       "4  Kolkata Knight Riders  Gujarat Titans   sold  Draft Pick               0   \n",
       "\n",
       "  base_price  \n",
       "0          0  \n",
       "1          0  \n",
       "2          2  \n",
       "3         40  \n",
       "4          0  "
      ]
     },
     "execution_count": 42,
     "metadata": {},
     "output_type": "execute_result"
    }
   ],
   "source": [
    "ipl.head()"
   ]
  },
  {
   "cell_type": "code",
   "execution_count": null,
   "id": "ebaaae92",
   "metadata": {},
   "outputs": [],
   "source": []
  },
  {
   "cell_type": "code",
   "execution_count": 43,
   "id": "530a6951",
   "metadata": {},
   "outputs": [
    {
     "data": {
      "text/plain": [
       "Team                         retention \n",
       "Chennai Super Kings          In Auction    21\n",
       "                             Retained       4\n",
       "Delhi Capitals               In Auction    20\n",
       "                             Retained       4\n",
       "Gujarat Titans               Draft Pick     3\n",
       "                             In Auction    19\n",
       "Kolkata Knight Riders        In Auction    21\n",
       "                             Retained       4\n",
       "Lucknow Super Giants         Draft Pick     3\n",
       "                             In Auction    19\n",
       "Mumbai Indians               In Auction    21\n",
       "                             Retained       4\n",
       "Punjab Kings                 In Auction    23\n",
       "                             Retained       2\n",
       "Rajasthan Royals             In Auction    21\n",
       "                             Retained       3\n",
       "Royal Challengers Bangalore  In Auction    19\n",
       "                             Retained       3\n",
       "Sunrisers Hyderabad          In Auction    20\n",
       "                             Retained       3\n",
       "Name: retention, dtype: int64"
      ]
     },
     "execution_count": 43,
     "metadata": {},
     "output_type": "execute_result"
    }
   ],
   "source": [
    "# 8. How many players Retained/DraftPicked by Each team ?\n",
    "\n",
    "ipl.groupby(['Team','retention'])['retention'].count()[:-1]"
   ]
  },
  {
   "cell_type": "code",
   "execution_count": null,
   "id": "dad748fd",
   "metadata": {},
   "outputs": [],
   "source": []
  },
  {
   "cell_type": "code",
   "execution_count": 50,
   "id": "73df8d7e",
   "metadata": {},
   "outputs": [
    {
     "data": {
      "text/plain": [
       "Team\n",
       "Chennai Super Kings            87.05\n",
       "Delhi Capitals                 86.40\n",
       "Gujarat Titans                 89.65\n",
       "Kolkata Knight Riders          81.55\n",
       "Lucknow Super Giants           89.40\n",
       "Mumbai Indians                 89.90\n",
       "Punjab Kings                   84.55\n",
       "Rajasthan Royals               89.05\n",
       "Royal Challengers Bangalore    88.45\n",
       "Sunrisers Hyderabad            89.90\n",
       "Name: COST IN ₹ (CR.), dtype: float64"
      ]
     },
     "execution_count": 50,
     "metadata": {},
     "output_type": "execute_result"
    }
   ],
   "source": [
    "\n",
    "#9. Amount Spent by each team in Auction\n",
    "\n",
    "amount_spent = ipl.groupby('Team')['COST IN ₹ (CR.)'].sum()[:-1]\n",
    "amount_spent"
   ]
  },
  {
   "cell_type": "code",
   "execution_count": 45,
   "id": "c6cefddd",
   "metadata": {},
   "outputs": [
    {
     "data": {
      "image/png": "[encoded data removed]",
      "text/plain": [
       "<Figure size 1500x500 with 1 Axes>"
      ]
     },
     "metadata": {},
     "output_type": "display_data"
    }
   ],
   "source": [
    "plt.figure(figsize=(15,5))\n",
    "sns.barplot('Team','COST IN ₹ (CR.)', data = ipl[ipl['COST IN ₹ (CR.)']!='Unsold'])\n",
    "plt.xticks(rotation=60)\n",
    "plt.ylabel('Ammount Spent')\n",
    "plt.show()"
   ]
  },
  {
   "cell_type": "code",
   "execution_count": 46,
   "id": "5fbb0df4",
   "metadata": {},
   "outputs": [
    {
     "data": {
      "text/plain": [
       "Unsold                         396\n",
       "Chennai Super Kings             25\n",
       "Kolkata Knight Riders           25\n",
       "Punjab Kings                    25\n",
       "Mumbai Indians                  25\n",
       "Delhi Capitals                  24\n",
       "Rajasthan Royals                24\n",
       "Sunrisers Hyderabad             23\n",
       "Gujarat Titans                  22\n",
       "Lucknow Super Giants            22\n",
       "Royal Challengers Bangalore     22\n",
       "Name: Team, dtype: int64"
      ]
     },
     "execution_count": 46,
     "metadata": {},
     "output_type": "execute_result"
    }
   ],
   "source": [
    "# 10 no player picked by each team\n",
    "ipl['Team'].value_counts()"
   ]
  },
  {
   "cell_type": "code",
   "execution_count": 47,
   "id": "1dae53b1",
   "metadata": {
    "scrolled": true
   },
   "outputs": [
    {
     "ename": "NameError",
     "evalue": "name 'Team' is not defined",
     "output_type": "error",
     "traceback": [
      "\u001b[1;31m---------------------------------------------------------------------------\u001b[0m",
      "\u001b[1;31mNameError\u001b[0m                                 Traceback (most recent call last)",
      "\u001b[1;32m~\\AppData\\Local\\Temp\\ipykernel_7584\\287999075.py\u001b[0m in \u001b[0;36m<module>\u001b[1;34m\u001b[0m\n\u001b[0;32m      1\u001b[0m \u001b[0mplt\u001b[0m\u001b[1;33m.\u001b[0m\u001b[0mfigure\u001b[0m\u001b[1;33m(\u001b[0m\u001b[0mfigsize\u001b[0m\u001b[1;33m=\u001b[0m\u001b[1;33m(\u001b[0m\u001b[1;36m15\u001b[0m\u001b[1;33m,\u001b[0m\u001b[1;36m5\u001b[0m\u001b[1;33m)\u001b[0m\u001b[1;33m)\u001b[0m\u001b[1;33m\u001b[0m\u001b[1;33m\u001b[0m\u001b[0m\n\u001b[0;32m      2\u001b[0m \u001b[0mplt\u001b[0m\u001b[1;33m.\u001b[0m\u001b[0mtitle\u001b[0m\u001b[1;33m(\u001b[0m\u001b[1;34m'Players in Team'\u001b[0m\u001b[1;33m)\u001b[0m\u001b[1;33m\u001b[0m\u001b[1;33m\u001b[0m\u001b[0m\n\u001b[1;32m----> 3\u001b[1;33m \u001b[0msns\u001b[0m\u001b[1;33m.\u001b[0m\u001b[0mbarplot\u001b[0m\u001b[1;33m(\u001b[0m\u001b[0my\u001b[0m\u001b[1;33m=\u001b[0m\u001b[0mTeam\u001b[0m\u001b[1;33m.\u001b[0m\u001b[0msize\u001b[0m\u001b[1;33m(\u001b[0m\u001b[1;33m)\u001b[0m\u001b[1;33m.\u001b[0m\u001b[0msort_values\u001b[0m\u001b[1;33m(\u001b[0m\u001b[1;33m)\u001b[0m\u001b[1;33m.\u001b[0m\u001b[0mvalues\u001b[0m\u001b[1;33m,\u001b[0m\u001b[0mx\u001b[0m\u001b[1;33m=\u001b[0m\u001b[0mTeam\u001b[0m\u001b[1;33m.\u001b[0m\u001b[0msize\u001b[0m\u001b[1;33m(\u001b[0m\u001b[1;33m)\u001b[0m\u001b[1;33m.\u001b[0m\u001b[0msort_values\u001b[0m\u001b[1;33m(\u001b[0m\u001b[1;33m)\u001b[0m\u001b[1;33m.\u001b[0m\u001b[0mindex\u001b[0m\u001b[1;33m)\u001b[0m\u001b[1;33m\u001b[0m\u001b[1;33m\u001b[0m\u001b[0m\n\u001b[0m\u001b[0;32m      4\u001b[0m \u001b[0mplt\u001b[0m\u001b[1;33m.\u001b[0m\u001b[0mgrid\u001b[0m\u001b[1;33m(\u001b[0m\u001b[1;33m)\u001b[0m\u001b[1;33m\u001b[0m\u001b[1;33m\u001b[0m\u001b[0m\n",
      "\u001b[1;31mNameError\u001b[0m: name 'Team' is not defined"
     ]
    },
    {
     "data": {
      "image/png": "[encoded data removed]",
      "text/plain": [
       "<Figure size 1500x500 with 1 Axes>"
      ]
     },
     "metadata": {},
     "output_type": "display_data"
    }
   ],
   "source": [
    "plt.figure(figsize=(15,5))\n",
    "plt.title('Players in Team')\n",
    "sns.barplot(y=Team,x=\n",
    "plt.grid()"
   ]
  },
  {
   "cell_type": "code",
   "execution_count": 52,
   "id": "afee6b02",
   "metadata": {},
   "outputs": [
    {
     "data": {
      "image/png": "[encoded data removed]",
      "text/plain": [
       "<Figure size 640x480 with 1 Axes>"
      ]
     },
     "metadata": {},
     "output_type": "display_data"
    }
   ],
   "source": [
    "# create data\n",
    "x = ['A', 'B', 'C', 'D', 'E']\n",
    "y = [10, 5, 8, 3, 6]\n",
    "\n",
    "# create a bar plot\n",
    "sns.barplot(x=x, y=y)\n",
    "\n",
    "# add labels\n",
    "plt.xlabel('X Label')\n",
    "plt.ylabel('Y Label')\n",
    "plt.title('Bar Plot')\n",
    "\n",
    "# show plot\n",
    "plt.show()"
   ]
  },
  {
   "cell_type": "code",
   "execution_count": null,
   "id": "28dc742d",
   "metadata": {},
   "outputs": [],
   "source": [
    "ipl.info()"
   ]
  },
  {
   "cell_type": "code",
   "execution_count": 48,
   "id": "bf61c633",
   "metadata": {},
   "outputs": [
    {
     "data": {
      "text/plain": [
       "0      Gujarat Titans\n",
       "1      Gujarat Titans\n",
       "2      Gujarat Titans\n",
       "3      Gujarat Titans\n",
       "4      Gujarat Titans\n",
       "            ...      \n",
       "628            Unsold\n",
       "629            Unsold\n",
       "630            Unsold\n",
       "631            Unsold\n",
       "632            Unsold\n",
       "Name: Team, Length: 633, dtype: object"
      ]
     },
     "execution_count": 48,
     "metadata": {},
     "output_type": "execute_result"
    }
   ],
   "source": [
    "#11 \n",
    "ipl.Team"
   ]
  },
  {
   "cell_type": "code",
   "execution_count": 51,
   "id": "e0993f73",
   "metadata": {},
   "outputs": [
    {
     "data": {
      "image/png": "[encoded data removed]",
      "text/plain": [
       "<Figure size 640x480 with 1 Axes>"
      ]
     },
     "metadata": {},
     "output_type": "display_data"
    }
   ],
   "source": [
    "# create data\n",
    "x = ['A', 'B', 'C', 'D', 'E']\n",
    "y = [10, 5, 8, 3, 6]\n",
    "\n",
    "# create a bar plot\n",
    "sns.barplot(x=x, y=y)\n",
    "\n",
    "# add labels\n",
    "plt.xlabel('X Label')\n",
    "plt.ylabel('Y Label')\n",
    "plt.title('Bar Plot')\n",
    "\n",
    "# show plot\n",
    "plt.show()"
   ]
  },
  {
   "cell_type": "code",
   "execution_count": null,
   "id": "34b41730",
   "metadata": {},
   "outputs": [],
   "source": []
  }
 ],
 "metadata": {
  "kernelspec": {
   "display_name": "Python 3 (ipykernel)",
   "language": "python",
   "name": "python3"
  },
  "language_info": {
   "codemirror_mode": {
    "name": "ipython",
    "version": 3
   },
   "file_extension": ".py",
   "mimetype": "text/x-python",
   "name": "python",
   "nbconvert_exporter": "python",
   "pygments_lexer": "ipython3",
   "version": "3.9.13"
  }
 },
 "nbformat": 4,
 "nbformat_minor": 5
}
